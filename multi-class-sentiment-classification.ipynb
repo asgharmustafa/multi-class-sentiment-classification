{
  "nbformat": 4,
  "nbformat_minor": 0,
  "metadata": {
    "kernelspec": {
      "name": "python3",
      "display_name": "Python 3"
    },
    "language_info": {
      "codemirror_mode": {
        "name": "ipython",
        "version": 3
      },
      "file_extension": ".py",
      "mimetype": "text/x-python",
      "name": "python",
      "nbconvert_exporter": "python",
      "pygments_lexer": "ipython3",
      "version": "3.7.3"
    },
    "colab": {
      "name": "Group5_ass2_impl.ipynb",
      "provenance": [],
      "collapsed_sections": [],
      "toc_visible": true,
      "machine_shape": "hm"
    },
    "accelerator": "GPU"
  },
  "cells": [
    {
      "cell_type": "markdown",
      "metadata": {
        "id": "ns1TONUCmUQK",
        "colab_type": "text"
      },
      "source": [
        "# FIT 5149 Assignment 2 Group 5 S2 2019: Sentiment Classification\n",
        "\n",
        "Authors:\n",
        "* Hristina Todorovska\n",
        "* Asghar Mustafa\n",
        "* Pouria Ebrahimnezhad\n",
        "\n",
        "October 2019"
      ]
    },
    {
      "cell_type": "markdown",
      "metadata": {
        "id": "9ZIA_Adp4knF",
        "colab_type": "text"
      },
      "source": [
        "## Preliminaries"
      ]
    },
    {
      "cell_type": "code",
      "metadata": {
        "id": "v7orCB97mUQQ",
        "colab_type": "code",
        "colab": {
          "base_uri": "https://localhost:8080/",
          "height": 133
        },
        "outputId": "26f2c756-f3f6-4ea4-dbeb-cdb3d1e24b9f"
      },
      "source": [
        "import pandas as pd\n",
        "import warnings\n",
        "import re\n",
        "import numpy as np\n",
        "from math import floor\n",
        "from nltk.corpus import stopwords\n",
        "from nltk import ngrams\n",
        "from nltk.tokenize import RegexpTokenizer\n",
        "from nltk.stem import WordNetLemmatizer\n",
        "from sklearn.feature_extraction.text import CountVectorizer, TfidfVectorizer,TfidfTransformer\n",
        "from sklearn.ensemble import RandomForestClassifier, VotingClassifier, BaggingClassifier\n",
        "from sklearn.datasets import make_classification\n",
        "from sklearn.naive_bayes import MultinomialNB\n",
        "from sklearn.linear_model import LogisticRegression, SGDClassifier\n",
        "from sklearn.model_selection import train_test_split, cross_val_score\n",
        "from sklearn.svm import LinearSVC\n",
        "from sklearn.calibration import CalibratedClassifierCV\n",
        "from sklearn.neural_network import MLPClassifier\n",
        "from scipy.sparse import vstack\n",
        "from mlxtend.classifier import StackingClassifier\n",
        "from fastai.text import * \n",
        "from keras import optimizers\n",
        "from sklearn.model_selection import StratifiedKFold\n",
        "from keras import layers\n",
        "from keras.models import Sequential\n",
        "from keras.layers import Dense, Activation, Dropout, Bidirectional, LSTM\n",
        "from keras.optimizers import SGD\n",
        "\n",
        "\n",
        "warnings.filterwarnings(\"ignore\")"
      ],
      "execution_count": null,
      "outputs": [
        {
          "output_type": "stream",
          "text": [
            "/usr/local/lib/python3.6/dist-packages/sklearn/externals/six.py:31: DeprecationWarning: The module is deprecated in version 0.21 and will be removed in version 0.23 since we've dropped support for Python 2.7. Please rely on the official version of six (https://pypi.org/project/six/).\n",
            "  \"(https://pypi.org/project/six/).\", DeprecationWarning)\n",
            "Using TensorFlow backend.\n"
          ],
          "name": "stderr"
        },
        {
          "output_type": "display_data",
          "data": {
            "text/html": [
              "<p style=\"color: red;\">\n",
              "The default version of TensorFlow in Colab will soon switch to TensorFlow 2.x.<br>\n",
              "We recommend you <a href=\"https://www.tensorflow.org/guide/migrate\" target=\"_blank\">upgrade</a> now \n",
              "or ensure your notebook will continue to use TensorFlow 1.x via the <code>%tensorflow_version 1.x</code> magic:\n",
              "<a href=\"https://colab.research.google.com/notebooks/tensorflow_version.ipynb\" target=\"_blank\">more info</a>.</p>\n"
            ],
            "text/plain": [
              "<IPython.core.display.HTML object>"
            ]
          },
          "metadata": {
            "tags": []
          }
        }
      ]
    },
    {
      "cell_type": "code",
      "metadata": {
        "id": "82ZYQS0Un2SI",
        "colab_type": "code",
        "colab": {
          "base_uri": "https://localhost:8080/",
          "height": 34
        },
        "outputId": "3c1ce1fb-0012-4625-b4fe-8532149c9fca"
      },
      "source": [
        "from google.colab import drive\n",
        "drive.mount('/content/drive')\n",
        "labeled_data = pd.read_csv(\"/content/drive/My Drive/ADA_Assignment 2/labeled_data.csv\")\n",
        "unlabeled_data = pd.read_csv(\"/content/drive/My Drive/ADA_Assignment 2/unlabeled_data.csv\")"
      ],
      "execution_count": null,
      "outputs": [
        {
          "output_type": "stream",
          "text": [
            "Mounted at /content/drive\n"
          ],
          "name": "stdout"
        }
      ]
    },
    {
      "cell_type": "code",
      "metadata": {
        "id": "gc9Qpi6zmUQj",
        "colab_type": "code",
        "colab": {
          "base_uri": "https://localhost:8080/",
          "height": 195
        },
        "outputId": "a441280d-c8c1-4d13-e595-708d79ae3d6b"
      },
      "source": [
        "# show first rows\n",
        "labeled_data.head()"
      ],
      "execution_count": null,
      "outputs": [
        {
          "output_type": "execute_result",
          "data": {
            "text/html": [
              "<div>\n",
              "<style scoped>\n",
              "    .dataframe tbody tr th:only-of-type {\n",
              "        vertical-align: middle;\n",
              "    }\n",
              "\n",
              "    .dataframe tbody tr th {\n",
              "        vertical-align: top;\n",
              "    }\n",
              "\n",
              "    .dataframe thead th {\n",
              "        text-align: right;\n",
              "    }\n",
              "</style>\n",
              "<table border=\"1\" class=\"dataframe\">\n",
              "  <thead>\n",
              "    <tr style=\"text-align: right;\">\n",
              "      <th></th>\n",
              "      <th>text</th>\n",
              "      <th>label</th>\n",
              "    </tr>\n",
              "  </thead>\n",
              "  <tbody>\n",
              "    <tr>\n",
              "      <th>0</th>\n",
              "      <td>The new rule is - \\r\\nif you are waiting for a...</td>\n",
              "      <td>4</td>\n",
              "    </tr>\n",
              "    <tr>\n",
              "      <th>1</th>\n",
              "      <td>Flirted with giving this two stars, but that's...</td>\n",
              "      <td>3</td>\n",
              "    </tr>\n",
              "    <tr>\n",
              "      <th>2</th>\n",
              "      <td>I was staying at planet Hollywood across the s...</td>\n",
              "      <td>5</td>\n",
              "    </tr>\n",
              "    <tr>\n",
              "      <th>3</th>\n",
              "      <td>Food is good but prices are super expensive.  ...</td>\n",
              "      <td>2</td>\n",
              "    </tr>\n",
              "    <tr>\n",
              "      <th>4</th>\n",
              "      <td>Worse company to deal with they do horrible wo...</td>\n",
              "      <td>1</td>\n",
              "    </tr>\n",
              "  </tbody>\n",
              "</table>\n",
              "</div>"
            ],
            "text/plain": [
              "                                                text  label\n",
              "0  The new rule is - \\r\\nif you are waiting for a...      4\n",
              "1  Flirted with giving this two stars, but that's...      3\n",
              "2  I was staying at planet Hollywood across the s...      5\n",
              "3  Food is good but prices are super expensive.  ...      2\n",
              "4  Worse company to deal with they do horrible wo...      1"
            ]
          },
          "metadata": {
            "tags": []
          },
          "execution_count": 3
        }
      ]
    },
    {
      "cell_type": "code",
      "metadata": {
        "id": "jxJruinTmUQm",
        "colab_type": "code",
        "colab": {
          "base_uri": "https://localhost:8080/",
          "height": 195
        },
        "outputId": "b8fba1eb-e1f1-4dc7-a0ba-c8f8798b95b0"
      },
      "source": [
        "# show first rows\n",
        "unlabeled_data.head()"
      ],
      "execution_count": null,
      "outputs": [
        {
          "output_type": "execute_result",
          "data": {
            "text/html": [
              "<div>\n",
              "<style scoped>\n",
              "    .dataframe tbody tr th:only-of-type {\n",
              "        vertical-align: middle;\n",
              "    }\n",
              "\n",
              "    .dataframe tbody tr th {\n",
              "        vertical-align: top;\n",
              "    }\n",
              "\n",
              "    .dataframe thead th {\n",
              "        text-align: right;\n",
              "    }\n",
              "</style>\n",
              "<table border=\"1\" class=\"dataframe\">\n",
              "  <thead>\n",
              "    <tr style=\"text-align: right;\">\n",
              "      <th></th>\n",
              "      <th>text</th>\n",
              "    </tr>\n",
              "  </thead>\n",
              "  <tbody>\n",
              "    <tr>\n",
              "      <th>0</th>\n",
              "      <td>Had a good experience when my wife and I sat a...</td>\n",
              "    </tr>\n",
              "    <tr>\n",
              "      <th>1</th>\n",
              "      <td>On my first to Montreal with my gf we came her...</td>\n",
              "    </tr>\n",
              "    <tr>\n",
              "      <th>2</th>\n",
              "      <td>One of our favorite places to go when it's col...</td>\n",
              "    </tr>\n",
              "    <tr>\n",
              "      <th>3</th>\n",
              "      <td>The doctor was very nice, got in in a good amo...</td>\n",
              "    </tr>\n",
              "    <tr>\n",
              "      <th>4</th>\n",
              "      <td>The Nook is an immediate phoenix staple!  I ca...</td>\n",
              "    </tr>\n",
              "  </tbody>\n",
              "</table>\n",
              "</div>"
            ],
            "text/plain": [
              "                                                text\n",
              "0  Had a good experience when my wife and I sat a...\n",
              "1  On my first to Montreal with my gf we came her...\n",
              "2  One of our favorite places to go when it's col...\n",
              "3  The doctor was very nice, got in in a good amo...\n",
              "4  The Nook is an immediate phoenix staple!  I ca..."
            ]
          },
          "metadata": {
            "tags": []
          },
          "execution_count": 4
        }
      ]
    },
    {
      "cell_type": "code",
      "metadata": {
        "id": "T1banzH1tPVQ",
        "colab_type": "code",
        "colab": {}
      },
      "source": [
        "# combine labeled and unlabeled data into one dataframe\n",
        "docs = pd.concat([labeled_data, unlabeled_data])\n",
        "#docs = labeled_data"
      ],
      "execution_count": null,
      "outputs": []
    },
    {
      "cell_type": "code",
      "metadata": {
        "id": "lqlW0WDztPVT",
        "colab_type": "code",
        "colab": {
          "base_uri": "https://localhost:8080/",
          "height": 34
        },
        "outputId": "36b04b4c-672e-46bd-9ebe-11a836aa6195"
      },
      "source": [
        "# print the shape of the new dataframe\n",
        "print(docs.shape)"
      ],
      "execution_count": null,
      "outputs": [
        {
          "output_type": "stream",
          "text": [
            "(650000, 2)\n"
          ],
          "name": "stdout"
        }
      ]
    },
    {
      "cell_type": "markdown",
      "metadata": {
        "id": "rayn7CAXtPVZ",
        "colab_type": "text"
      },
      "source": [
        "### Clean and Preprocess\n",
        "\n",
        "Here we make a list of contractions to use in our text pre-proccessing which we think will be able to result in better features in our sentiment analysis"
      ]
    },
    {
      "cell_type": "code",
      "metadata": {
        "id": "bS-2tdlrtPVZ",
        "colab_type": "code",
        "colab": {}
      },
      "source": [
        "contractions = {\n",
        "\"ain't\": \"am not / are not\",\n",
        "\"aren't\": \"are not / am not\",\n",
        "\"can't\": \"cannot\",\n",
        "\"can't've\": \"cannot have\",\n",
        "\"'cause\": \"because\",\n",
        "\"could've\": \"could have\",\n",
        "\"couldn't\": \"could not\",\n",
        "\"couldn't've\": \"could not have\",\n",
        "\"didn't\": \"did not\",\n",
        "\"doesn't\": \"does not\",\n",
        "\"don't\": \"do not\",\n",
        "\"hadn't\": \"had not\",\n",
        "\"hadn't've\": \"had not have\",\n",
        "\"hasn't\": \"has not\",\n",
        "\"haven't\": \"have not\",\n",
        "\"he'd\": \"he had / he would\",\n",
        "\"he'd've\": \"he would have\",\n",
        "\"he'll\": \"he shall / he will\",\n",
        "\"he'll've\": \"he shall have / he will have\",\n",
        "\"he's\": \"he has / he is\",\n",
        "\"how'd\": \"how did\",\n",
        "\"how'd'y\": \"how do you\",\n",
        "\"how'll\": \"how will\",\n",
        "\"how's\": \"how has / how is\",\n",
        "\"i'd\": \"I had / I would\",\n",
        "\"i'd've\": \"I would have\",\n",
        "\"i'll\": \"I shall / I will\",\n",
        "\"i'll've\": \"I shall have / I will have\",\n",
        "\"i'm\": \"I am\",\n",
        "\"i've\": \"I have\",\n",
        "\"isn't\": \"is not\",\n",
        "\"it'd\": \"it had / it would\",\n",
        "\"it'd've\": \"it would have\",\n",
        "\"it'll\": \"it shall / it will\",\n",
        "\"it'll've\": \"it shall have / it will have\",\n",
        "\"it's\": \"it has / it is\",\n",
        "\"let's\": \"let us\",\n",
        "\"ma'am\": \"madam\",\n",
        "\"mayn't\": \"may not\",\n",
        "\"might've\": \"might have\",\n",
        "\"mightn't\": \"might not\",\n",
        "\"mightn't've\": \"might not have\",\n",
        "\"must've\": \"must have\",\n",
        "\"mustn't\": \"must not\",\n",
        "\"mustn't've\": \"must not have\",\n",
        "\"needn't\": \"need not\",\n",
        "\"needn't've\": \"need not have\",\n",
        "\"o'clock\": \"of the clock\",\n",
        "\"oughtn't\": \"ought not\",\n",
        "\"oughtn't've\": \"ought not have\",\n",
        "\"shan't\": \"shall not\",\n",
        "\"sha'n't\": \"shall not\",\n",
        "\"shan't've\": \"shall not have\",\n",
        "\"she'd\": \"she had / she would\",\n",
        "\"she'd've\": \"she would have\",\n",
        "\"she'll\": \"she shall / she will\",\n",
        "\"she'll've\": \"she shall have / she will have\",\n",
        "\"she's\": \"she has / she is\",\n",
        "\"should've\": \"should have\",\n",
        "\"shouldn't\": \"should not\",\n",
        "\"shouldn't've\": \"should not have\",\n",
        "\"so've\": \"so have\",\n",
        "\"so's\": \"so as / so is\",\n",
        "\"that'd\": \"that would / that had\",\n",
        "\"that'd've\": \"that would have\",\n",
        "\"that's\": \"that has / that is\",\n",
        "\"there'd\": \"there had / there would\",\n",
        "\"there'd've\": \"there would have\",\n",
        "\"there's\": \"there has / there is\",\n",
        "\"they'd\": \"they had / they would\",\n",
        "\"they'd've\": \"they would have\",\n",
        "\"they'll\": \"they shall / they will\",\n",
        "\"they'll've\": \"they shall have / they will have\",\n",
        "\"they're\": \"they are\",\n",
        "\"they've\": \"they have\",\n",
        "\"to've\": \"to have\",\n",
        "\"wasn't\": \"was not\",\n",
        "\"we'd\": \"we had / we would\",\n",
        "\"we'd've\": \"we would have\",\n",
        "\"we'll\": \"we will\",\n",
        "\"we'll've\": \"we will have\",\n",
        "\"we're\": \"we are\",\n",
        "\"we've\": \"we have\",\n",
        "\"weren't\": \"were not\",\n",
        "\"what'll\": \"what shall / what will\",\n",
        "\"what'll've\": \"what shall have / what will have\",\n",
        "\"what're\": \"what are\",\n",
        "\"what's\": \"what has / what is\",\n",
        "\"what've\": \"what have\",\n",
        "\"when's\": \"when has / when is\",\n",
        "\"when've\": \"when have\",\n",
        "\"where'd\": \"where did\",\n",
        "\"where's\": \"where has / where is\",\n",
        "\"where've\": \"where have\",\n",
        "\"who'll\": \"who shall / who will\",\n",
        "\"who'll've\": \"who shall have / who will have\",\n",
        "\"who's\": \"who has / who is\",\n",
        "\"who've\": \"who have\",\n",
        "\"why's\": \"why has / why is\",\n",
        "\"why've\": \"why have\",\n",
        "\"will've\": \"will have\",\n",
        "\"won't\": \"will not\",\n",
        "\"won't've\": \"will not have\",\n",
        "\"would've\": \"would have\",\n",
        "\"wouldn't\": \"would not\",\n",
        "\"wouldn't've\": \"would not have\",\n",
        "\"y'all\": \"you all\",\n",
        "\"y'all'd\": \"you all would\",\n",
        "\"y'all'd've\": \"you all would have\",\n",
        "\"y'all're\": \"you all are\",\n",
        "\"y'all've\": \"you all have\",\n",
        "\"you'd\": \"you had / you would\",\n",
        "\"you'd've\": \"you would have\",\n",
        "\"you'll\": \"you shall / you will\",\n",
        "\"you'll've\": \"you shall have / you will have\",\n",
        "\"you're\": \"you are\",\n",
        "\"you've\": \"you have\"}"
      ],
      "execution_count": null,
      "outputs": []
    },
    {
      "cell_type": "markdown",
      "metadata": {
        "id": "7wNv0Q_iQL7j",
        "colab_type": "text"
      },
      "source": [
        "We also generate a customised list of stop words that can be used towards sentiment analysis, since using the English stop words can actually remove some of the words that play a key role in classification of the labels"
      ]
    },
    {
      "cell_type": "code",
      "metadata": {
        "id": "xSvG2VHWtPVb",
        "colab_type": "code",
        "colab": {}
      },
      "source": [
        "our_stop_words = ['i', 'I',\n",
        "'me',\n",
        "'my',\n",
        "'myself',\n",
        "'we',\n",
        "'our',\n",
        "'ours',\n",
        "'ourselves',\n",
        "'you',\n",
        "\"you're\",\n",
        "\"you've\",\n",
        "\"you'll\",\n",
        "\"you'd\",\n",
        "'your',\n",
        "'yours',\n",
        "'yourself',\n",
        "'yourselves',\n",
        "'he',\n",
        "'him',\n",
        "'his',\n",
        "'himself',\n",
        "'she',\n",
        "\"she's\",\n",
        "'her',\n",
        "'hers',\n",
        "'herself',\n",
        "'it',\n",
        "\"it's\",\n",
        "'its',\n",
        "'itself',\n",
        "'they',\n",
        "'them',\n",
        "'their',\n",
        "'theirs',\n",
        "'themselves',\n",
        "'what',\n",
        "'which',\n",
        "'who',\n",
        "'whom',\n",
        "'this',\n",
        "'that',\n",
        "\"that'll\",\n",
        "'these',\n",
        "'those',\n",
        "'am',\n",
        "'is',\n",
        "'are',\n",
        "'was',\n",
        "'were',\n",
        "'be',\n",
        "'been',\n",
        "'being',\n",
        "'have',\n",
        "'has',\n",
        "'had',\n",
        "'having',\n",
        "'do',\n",
        "'does',\n",
        "'did',\n",
        "'doing',\n",
        "'a',\n",
        "'an',\n",
        "'the',\n",
        "'and',\n",
        "'but',\n",
        "'if',\n",
        "'or',\n",
        "'until',\n",
        "'while',\n",
        "'of',\n",
        "'at',\n",
        "'by',\n",
        "'for',\n",
        "'with',\n",
        "'about',\n",
        "'between',\n",
        "'into',\n",
        "'during',\n",
        "'before',\n",
        "'after',\n",
        "'to',\n",
        "'from',\n",
        "'in',\n",
        "'out',\n",
        "'on',\n",
        "'then',\n",
        "'once',\n",
        "'here',\n",
        "'there',\n",
        "'when',\n",
        "'where',\n",
        "'all',\n",
        "'both',\n",
        "'each',\n",
        "'other',\n",
        "'some',\n",
        "'such',\n",
        "'only',\n",
        "'own',\n",
        "'same',\n",
        "'so',\n",
        "'than',\n",
        "'s',\n",
        "'t',\n",
        "'can',\n",
        "'will',\n",
        "'just',\n",
        "'now',\n",
        "'d',\n",
        "'ll',\n",
        "'m',\n",
        "'o',\n",
        "'re',\n",
        "'ve',\n",
        "'y',\n",
        "'ain',\n",
        "'aren',\n",
        "\"aren't\",\n",
        "'ma',\n",
        "'needn',\n",
        "\"needn't\",\n",
        "'shan',\n",
        "\"shan't\",]"
      ],
      "execution_count": null,
      "outputs": []
    },
    {
      "cell_type": "code",
      "metadata": {
        "id": "5JXINCmStPVd",
        "colab_type": "code",
        "colab": {}
      },
      "source": [
        "# Tokenization\n",
        "tokenizer = RegexpTokenizer('\\w+(?:[-\\']\\w+)?')\n",
        "\n",
        "# Lemmatization    \n",
        "lemmatizer = WordNetLemmatizer() \n",
        "\n",
        "REPLACE_WITH_SPACE = re.compile(\"(!)|(\\.)|(\\?)\")\n",
        "\n",
        "def lemma(doc):\n",
        "    temp=[]\n",
        "    for each in doc:\n",
        "        temp.append(lemmatizer.lemmatize(each))\n",
        "    return temp \n",
        "  \n"
      ],
      "execution_count": null,
      "outputs": []
    },
    {
      "cell_type": "markdown",
      "metadata": {
        "id": "MmzblLwcQ3yg",
        "colab_type": "text"
      },
      "source": [
        "Now in order to make life easier we define a function that can pre process our data this would come in handy later in our modelling and testing stage"
      ]
    },
    {
      "cell_type": "code",
      "metadata": {
        "id": "OyinhdLstPVf",
        "colab_type": "code",
        "colab": {}
      },
      "source": [
        "def pre_process(text):\n",
        "  \n",
        "  \n",
        "    # convert to lowercase\n",
        "    text = text.apply(lambda x: x.lower())\n",
        "    \n",
        "    # remove url\n",
        "    text = text.apply(lambda x : re.sub(r\"http\\S+\", \"\", x))\n",
        "    \n",
        "    # remove numbers\n",
        "    text = text.apply(lambda x: re.sub(r\"\\d+\", \"\", x))\n",
        "    \n",
        "    # replace apostrophe/short words\n",
        "    for key, value in contractions.items():\n",
        "        text = text.apply(lambda x: x.replace(key, value))\n",
        "    \n",
        "    # remove Punctuation\n",
        "    text = text.apply(lambda x: re.sub(r'[^\\w\\s]',' ',x))\n",
        "    \n",
        "    # remove whitespaces\n",
        "    text = text.apply(lambda x: re.sub('\\s+', ' ', x).strip())\n",
        "    \n",
        "    # Removing our own set of stopwords from the vocab\n",
        "    text = text.apply(lambda x : ' '.join([word for word in x.split() if word not in our_stop_words]))\n",
        "    \n",
        "    # tokenization\n",
        "    text = text.apply(lambda x: tokenizer.tokenize(x))\n",
        "    \n",
        "    # lemmatization\n",
        "    text = text.apply(lambda x: lemma(x))\n",
        "    \n",
        "    return text\n",
        "    \n"
      ],
      "execution_count": null,
      "outputs": []
    },
    {
      "cell_type": "code",
      "metadata": {
        "id": "TlSguihCuv1y",
        "colab_type": "code",
        "colab": {
          "base_uri": "https://localhost:8080/",
          "height": 67
        },
        "outputId": "0c81c6b9-e331-42ee-c80d-df2fc9f52322"
      },
      "source": [
        "text = docs.copy()\n",
        "\n",
        "import nltk\n",
        "nltk.download('wordnet')"
      ],
      "execution_count": null,
      "outputs": [
        {
          "output_type": "stream",
          "text": [
            "[nltk_data] Downloading package wordnet to /root/nltk_data...\n",
            "[nltk_data]   Package wordnet is already up-to-date!\n"
          ],
          "name": "stdout"
        },
        {
          "output_type": "execute_result",
          "data": {
            "text/plain": [
              "True"
            ]
          },
          "metadata": {
            "tags": []
          },
          "execution_count": 12
        }
      ]
    },
    {
      "cell_type": "markdown",
      "metadata": {
        "id": "_oHe7P17tPVh",
        "colab_type": "text"
      },
      "source": [
        "### Pre Processing our Train Data\n",
        "\n",
        "Here we apply the pre defined funstion for pre processing to our data"
      ]
    },
    {
      "cell_type": "code",
      "metadata": {
        "id": "WO72t18MtPVi",
        "colab_type": "code",
        "colab": {
          "base_uri": "https://localhost:8080/",
          "height": 50
        },
        "outputId": "d4251d23-876c-4de6-d6b2-f1a884bb8187"
      },
      "source": [
        "%%time\n",
        "text[\"text\"] = pre_process(text[\"text\"])"
      ],
      "execution_count": null,
      "outputs": [
        {
          "output_type": "stream",
          "text": [
            "CPU times: user 7min 2s, sys: 2.2 s, total: 7min 4s\n",
            "Wall time: 7min 4s\n"
          ],
          "name": "stdout"
        }
      ]
    },
    {
      "cell_type": "markdown",
      "metadata": {
        "id": "WCHoYd7ttPVk",
        "colab_type": "text"
      },
      "source": [
        "Computing TF-IDF and Extracting Keywords\n",
        "\n",
        "in this section we compute the term frequency and Inverse document frequency of the words which will be then used to create a dataframe of our features for modeling stage, for now we will keep the maximum number of features to 10,000"
      ]
    },
    {
      "cell_type": "code",
      "metadata": {
        "id": "QMYPeqLhtPVl",
        "colab_type": "code",
        "colab": {}
      },
      "source": [
        "tfidf_rep = TfidfVectorizer(tokenizer=lambda doc: doc, lowercase=False,analyzer='word', ngram_range=(1, 3),  min_df=0.0, max_features=10000, stop_words=our_stop_words)\n",
        "tfv_matrix = tfidf_rep.fit(text.iloc[0:50000][\"text\"])\n",
        "tfv_matrix_all = tfidf_rep.transform(text[\"text\"])\n",
        "tfv_features = tfidf_rep.get_feature_names()"
      ],
      "execution_count": null,
      "outputs": []
    },
    {
      "cell_type": "code",
      "metadata": {
        "id": "zj8bSGozgWg7",
        "colab_type": "code",
        "colab": {}
      },
      "source": [
        "df_labeled=tfv_matrix_all[0:50000,:]\n",
        "df_unlabeled=tfv_matrix_all[50000:,:]"
      ],
      "execution_count": null,
      "outputs": []
    },
    {
      "cell_type": "code",
      "metadata": {
        "id": "iFNUARXxtPVn",
        "colab_type": "code",
        "colab": {
          "base_uri": "https://localhost:8080/",
          "height": 34
        },
        "outputId": "8984de58-a300-4f8d-e585-90e69a743b43"
      },
      "source": [
        "df_data = pd.DataFrame(tfv_matrix_all[0:50000].toarray(),columns=tfv_features)\n",
        "df_data.shape\n"
      ],
      "execution_count": null,
      "outputs": [
        {
          "output_type": "execute_result",
          "data": {
            "text/plain": [
              "(50000, 10000)"
            ]
          },
          "metadata": {
            "tags": []
          },
          "execution_count": 16
        }
      ]
    },
    {
      "cell_type": "code",
      "metadata": {
        "id": "Eew1OqcotPVp",
        "colab_type": "code",
        "colab": {}
      },
      "source": [
        "def accuracy(list1,list2):\n",
        "    match=0\n",
        "    for i in range(len(list1)):\n",
        "        if list1[i]==list2[i]:\n",
        "            match+=1\n",
        "    return (match/len(list1))"
      ],
      "execution_count": null,
      "outputs": []
    },
    {
      "cell_type": "markdown",
      "metadata": {
        "id": "tX945Z9rvaRr",
        "colab_type": "text"
      },
      "source": [
        "## Exploratory Data Analysis"
      ]
    },
    {
      "cell_type": "markdown",
      "metadata": {
        "id": "x_IHmetiU9pr",
        "colab_type": "text"
      },
      "source": [
        "### Perform PCA on the features\n",
        "\n",
        "Here we try to perform Principal Component Analysis on the features with an aim to understand how much of the variance is explained by which components of our features.\n",
        "\n",
        "in order to do this we scale the data and apply the analysis to non scaled data just to observe the differences\n",
        "\n",
        "also we try and demonstrate how much of the verience is explained by how many components"
      ]
    },
    {
      "cell_type": "code",
      "metadata": {
        "id": "9RuMzMuQvZYL",
        "colab_type": "code",
        "colab": {}
      },
      "source": [
        "# PCA requires scaling the data, here we decide to visualise both with and without scaling the features\n",
        "\n",
        "from sklearn.preprocessing import StandardScaler\n",
        "from sklearn.decomposition import PCA\n",
        "\n",
        "features = df_data.columns.tolist()\n",
        "\n",
        "# Separating out the features\n",
        "x = df_data.loc[:, features].values\n",
        "\n",
        "# Standardizing the features\n",
        "x_s = StandardScaler().fit_transform(x)"
      ],
      "execution_count": null,
      "outputs": []
    },
    {
      "cell_type": "code",
      "metadata": {
        "id": "1si0oOxsOvzs",
        "colab_type": "code",
        "colab": {}
      },
      "source": [
        "pca = PCA(n_components=1000).fit(x_s)\n"
      ],
      "execution_count": null,
      "outputs": []
    },
    {
      "cell_type": "code",
      "metadata": {
        "id": "Q2Z5qM4eRNyA",
        "colab_type": "code",
        "colab": {
          "base_uri": "https://localhost:8080/",
          "height": 283
        },
        "outputId": "8b498d9b-6776-4c88-bd5d-61a786ed0084"
      },
      "source": [
        "import matplotlib.pyplot as plt\n",
        "import numpy as np\n",
        "plt.plot(np.cumsum(pca.explained_variance_ratio_))\n",
        "plt.xlabel('number of components')\n",
        "plt.ylabel('cumulative explained variance');"
      ],
      "execution_count": null,
      "outputs": [
        {
          "output_type": "display_data",
          "data": {
            "image/png": "[encoded data removed]",
            "text/plain": [
              "<Figure size 432x288 with 1 Axes>"
            ]
          },
          "metadata": {
            "tags": []
          }
        }
      ]
    },
    {
      "cell_type": "markdown",
      "metadata": {
        "id": "tjZ5YuwQ1f0b",
        "colab_type": "text"
      },
      "source": [
        "We tried to Analyse the full number of components but due to limiatations in memory this was not feasible we can see here that the first 1000 principal components of our fetures only explains an accumulated 25-30% of the variance."
      ]
    },
    {
      "cell_type": "code",
      "metadata": {
        "id": "IoVMie7YEkBs",
        "colab_type": "code",
        "colab": {}
      },
      "source": [
        "#Fitting the PCA algorithm with our Data\n",
        "pca = PCA().fit(x_s)\n",
        "\n",
        "#Plotting the Cumulative Summation of the Explained Variance\n",
        "plt.figure()\n",
        "plt.plot(np.cumsum(pca.explained_variance_ratio_))\n",
        "plt.xlabel('Number of Components')\n",
        "plt.ylabel('Variance (%)') #for each component\n",
        "plt.title('Pulsar Dataset Explained Variance')\n",
        "plt.show()"
      ],
      "execution_count": null,
      "outputs": []
    },
    {
      "cell_type": "code",
      "metadata": {
        "id": "-EK2CzONxTXc",
        "colab_type": "code",
        "colab": {}
      },
      "source": [
        "# Projection to 2D\n",
        "\n",
        "pca_s = PCA(n_components=2)\n",
        "principalComponents_s = pca_s.fit_transform(x_s)\n",
        "principalDf_s = pd.DataFrame(data = principalComponents_s\n",
        "             , columns = ['principal component 1', 'principal component 2'])\n",
        "\n",
        "\n",
        "pca = PCA(n_components=2)\n",
        "principalComponents = pca.fit_transform(x)\n",
        "principalDf = pd.DataFrame(data = principalComponents\n",
        "             , columns = ['principal component 1', 'principal component 2'])\n"
      ],
      "execution_count": null,
      "outputs": []
    },
    {
      "cell_type": "code",
      "metadata": {
        "id": "LSXEdpuuxTiX",
        "colab_type": "code",
        "colab": {}
      },
      "source": [
        "# Generating a Dataframe including the 1st and 2nd components and the lable\n",
        "finalDf_s = pd.concat([principalDf_s, text.iloc[0:50000][\"label\"]], axis=1)\n",
        "finalDf = pd.concat([principalDf, text.iloc[0:50000][\"label\"]], axis=1)"
      ],
      "execution_count": null,
      "outputs": []
    },
    {
      "cell_type": "code",
      "metadata": {
        "id": "RUmkcOl9xTno",
        "colab_type": "code",
        "colab": {
          "base_uri": "https://localhost:8080/",
          "height": 204
        },
        "outputId": "e5116b98-0292-4638-96e3-ea0bbcd0ca2a"
      },
      "source": [
        "finalDf.head()"
      ],
      "execution_count": null,
      "outputs": [
        {
          "output_type": "execute_result",
          "data": {
            "text/html": [
              "<div>\n",
              "<style scoped>\n",
              "    .dataframe tbody tr th:only-of-type {\n",
              "        vertical-align: middle;\n",
              "    }\n",
              "\n",
              "    .dataframe tbody tr th {\n",
              "        vertical-align: top;\n",
              "    }\n",
              "\n",
              "    .dataframe thead th {\n",
              "        text-align: right;\n",
              "    }\n",
              "</style>\n",
              "<table border=\"1\" class=\"dataframe\">\n",
              "  <thead>\n",
              "    <tr style=\"text-align: right;\">\n",
              "      <th></th>\n",
              "      <th>principal component 1</th>\n",
              "      <th>principal component 2</th>\n",
              "      <th>label</th>\n",
              "    </tr>\n",
              "  </thead>\n",
              "  <tbody>\n",
              "    <tr>\n",
              "      <th>0</th>\n",
              "      <td>0.033303</td>\n",
              "      <td>-0.022360</td>\n",
              "      <td>4</td>\n",
              "    </tr>\n",
              "    <tr>\n",
              "      <th>1</th>\n",
              "      <td>-0.001126</td>\n",
              "      <td>0.171278</td>\n",
              "      <td>3</td>\n",
              "    </tr>\n",
              "    <tr>\n",
              "      <th>2</th>\n",
              "      <td>-0.089108</td>\n",
              "      <td>-0.010229</td>\n",
              "      <td>5</td>\n",
              "    </tr>\n",
              "    <tr>\n",
              "      <th>3</th>\n",
              "      <td>-0.025735</td>\n",
              "      <td>0.024445</td>\n",
              "      <td>2</td>\n",
              "    </tr>\n",
              "    <tr>\n",
              "      <th>4</th>\n",
              "      <td>0.143270</td>\n",
              "      <td>-0.051574</td>\n",
              "      <td>1</td>\n",
              "    </tr>\n",
              "  </tbody>\n",
              "</table>\n",
              "</div>"
            ],
            "text/plain": [
              "   principal component 1  principal component 2  label\n",
              "0               0.033303              -0.022360      4\n",
              "1              -0.001126               0.171278      3\n",
              "2              -0.089108              -0.010229      5\n",
              "3              -0.025735               0.024445      2\n",
              "4               0.143270              -0.051574      1"
            ]
          },
          "metadata": {
            "tags": []
          },
          "execution_count": 26
        }
      ]
    },
    {
      "cell_type": "markdown",
      "metadata": {
        "id": "oxLOswma2D1c",
        "colab_type": "text"
      },
      "source": [
        "Now we visualise all 5 classes of our data with respect to their 1st 2nd components but here we have not scaled the features"
      ]
    },
    {
      "cell_type": "code",
      "metadata": {
        "id": "Xr0A6HtWxTrg",
        "colab_type": "code",
        "colab": {
          "base_uri": "https://localhost:8080/",
          "height": 523
        },
        "outputId": "deb623f2-9f9d-462d-b775-1fffdba84bfd"
      },
      "source": [
        "# Visualize 2D Projection not scaled features\n",
        "\n",
        "import matplotlib.pyplot as plt\n",
        "fig = plt.figure(figsize = (8,8))\n",
        "ax = fig.add_subplot(1,1,1) \n",
        "ax.set_xlabel('Principal Component 1', fontsize = 15)\n",
        "ax.set_ylabel('Principal Component 2', fontsize = 15)\n",
        "ax.set_title('2 component PCA', fontsize = 20)\n",
        "labels = [1,2,3,4,5]\n",
        "colors = ['r', 'g', 'b', 'm', 'y']\n",
        "for label, color in zip(labels,colors):\n",
        "    indicesToKeep = finalDf['label'] == label\n",
        "    ax.scatter(finalDf.loc[indicesToKeep, 'principal component 1']\n",
        "               , finalDf.loc[indicesToKeep, 'principal component 2']\n",
        "               , c = color\n",
        "               , s = 50)\n",
        "ax.legend(labels)\n",
        "ax.grid()"
      ],
      "execution_count": null,
      "outputs": [
        {
          "output_type": "display_data",
          "data": {
            "image/png": "[encoded data removed]",
            "text/plain": [
              "<Figure size 576x576 with 1 Axes>"
            ]
          },
          "metadata": {
            "tags": []
          }
        }
      ]
    },
    {
      "cell_type": "markdown",
      "metadata": {
        "id": "99HDZ_D42S5c",
        "colab_type": "text"
      },
      "source": [
        "We now perform the same excersize for the scaled features, as expected there is no distinct seperation between the classes based on the 1st two components of the features meaning they do not explain significant portion of the variance"
      ]
    },
    {
      "cell_type": "code",
      "metadata": {
        "id": "ubikUQj4326o",
        "colab_type": "code",
        "colab": {
          "base_uri": "https://localhost:8080/",
          "height": 523
        },
        "outputId": "9b9b5998-64cd-4f37-fb39-9c53edcb0a33"
      },
      "source": [
        "# Visualize 2D Projection with scaled features\n",
        "\n",
        "import matplotlib.pyplot as plt\n",
        "fig = plt.figure(figsize = (8,8))\n",
        "ax = fig.add_subplot(1,1,1) \n",
        "ax.set_xlabel('Principal Component 1', fontsize = 15)\n",
        "ax.set_ylabel('Principal Component 2', fontsize = 15)\n",
        "ax.set_title('2 component PCA', fontsize = 20)\n",
        "labels = [1,2,3,4,5]\n",
        "colors = ['r', 'g', 'b', 'm', 'y']\n",
        "for label, color in zip(labels,colors):\n",
        "    indicesToKeep = finalDf_s['label'] == label\n",
        "    ax.scatter(finalDf_s.loc[indicesToKeep, 'principal component 1']\n",
        "               , finalDf_s.loc[indicesToKeep, 'principal component 2']\n",
        "               , c = color\n",
        "               , s = 50)\n",
        "ax.legend(labels)\n",
        "ax.grid()"
      ],
      "execution_count": null,
      "outputs": [
        {
          "output_type": "display_data",
          "data": {
            "image/png": "[encoded data removed]",
            "text/plain": [
              "<Figure size 576x576 with 1 Axes>"
            ]
          },
          "metadata": {
            "tags": []
          }
        }
      ]
    },
    {
      "cell_type": "code",
      "metadata": {
        "id": "OMHUJB6X4VfM",
        "colab_type": "code",
        "colab": {
          "base_uri": "https://localhost:8080/",
          "height": 34
        },
        "outputId": "941022e9-62aa-4192-898b-ba5bb0c45b30"
      },
      "source": [
        "# How much of the data is explained by the 1st two components of the features\n",
        "pca_s.explained_variance_"
      ],
      "execution_count": null,
      "outputs": [
        {
          "output_type": "execute_result",
          "data": {
            "text/plain": [
              "array([14.94351969, 13.93026922])"
            ]
          },
          "metadata": {
            "tags": []
          },
          "execution_count": 53
        }
      ]
    },
    {
      "cell_type": "markdown",
      "metadata": {
        "id": "anwmVKGAtPVv",
        "colab_type": "text"
      },
      "source": [
        "## Creating Models\n",
        "\n",
        "in this section we try and fit various models of choice in dealing with sentiment analysis.\n",
        "\n",
        "We use a 20% split of the labled data at this stage only, meaning we will train the models with 40,000 data points and test on 10,000 \n",
        "\n",
        "we then use the accuracy method created to see how well the models perform on this test split.\n"
      ]
    },
    {
      "cell_type": "code",
      "metadata": {
        "id": "RkI_13IXTFm-",
        "colab_type": "code",
        "colab": {}
      },
      "source": [
        "X_train, X_test, y_train, y_test = train_test_split(df_data, text.iloc[0:50000][\"label\"], test_size=0.2, random_state = 200)"
      ],
      "execution_count": null,
      "outputs": []
    },
    {
      "cell_type": "markdown",
      "metadata": {
        "id": "V889KbyHY7Tt",
        "colab_type": "text"
      },
      "source": [
        "### MultinomialNB"
      ]
    },
    {
      "cell_type": "code",
      "metadata": {
        "id": "mxeAgJLbtPVw",
        "colab_type": "code",
        "colab": {
          "base_uri": "https://localhost:8080/",
          "height": 34
        },
        "outputId": "8b3cafcd-5d14-4240-b577-b9d85c709642"
      },
      "source": [
        "clf = MultinomialNB().fit(X_train, y_train)\n",
        "clf_predict = clf.predict(X_test)\n",
        "accuracy(clf_predict,y_test.values)"
      ],
      "execution_count": null,
      "outputs": [
        {
          "output_type": "execute_result",
          "data": {
            "text/plain": [
              "0.569"
            ]
          },
          "metadata": {
            "tags": []
          },
          "execution_count": 24
        }
      ]
    },
    {
      "cell_type": "markdown",
      "metadata": {
        "id": "a69jMxgWtPVz",
        "colab_type": "text"
      },
      "source": [
        "### Logistic Regression"
      ]
    },
    {
      "cell_type": "code",
      "metadata": {
        "id": "StVFTOlNtPVz",
        "colab_type": "code",
        "colab": {
          "base_uri": "https://localhost:8080/",
          "height": 34
        },
        "outputId": "84609b83-6fe6-48c9-9af4-493d131a44b2"
      },
      "source": [
        "lr1 = LogisticRegression(random_state=0, solver='lbfgs', class_weight=\"balanced\", multi_class='multinomial').fit(X_train, y_train)\n",
        "lr_predict1=lr1.predict(X_test)\n",
        "accuracy(lr_predict1,y_test.values)"
      ],
      "execution_count": null,
      "outputs": [
        {
          "output_type": "execute_result",
          "data": {
            "text/plain": [
              "0.6041"
            ]
          },
          "metadata": {
            "tags": []
          },
          "execution_count": 25
        }
      ]
    },
    {
      "cell_type": "markdown",
      "metadata": {
        "id": "hjoJnHpxT84S",
        "colab_type": "text"
      },
      "source": [
        "We try the logistic regression with a different solver function and also change some further parameters such as penalty and tol level"
      ]
    },
    {
      "cell_type": "code",
      "metadata": {
        "id": "aMJmzVvCtPV4",
        "colab_type": "code",
        "colab": {
          "base_uri": "https://localhost:8080/",
          "height": 34
        },
        "outputId": "4e22291c-859e-461b-e5f8-da457738acc3"
      },
      "source": [
        "lr2 = LogisticRegression(random_state=0, solver='newton-cg', C=0.6, class_weight=\"balanced\", fit_intercept=False, max_iter=250, penalty=\"l2\",tol=0.0001,multi_class='multinomial').fit(X_train, y_train)\n",
        "lr_predict2=lr2.predict(X_test)\n",
        "accuracy(lr_predict2,y_test.values)"
      ],
      "execution_count": null,
      "outputs": [
        {
          "output_type": "execute_result",
          "data": {
            "text/plain": [
              "0.6039"
            ]
          },
          "metadata": {
            "tags": []
          },
          "execution_count": 26
        }
      ]
    },
    {
      "cell_type": "markdown",
      "metadata": {
        "id": "mG7Cef-gtPV5",
        "colab_type": "text"
      },
      "source": [
        "### Linear SVC"
      ]
    },
    {
      "cell_type": "code",
      "metadata": {
        "id": "cCh5mtb4tPV6",
        "colab_type": "code",
        "colab": {
          "base_uri": "https://localhost:8080/",
          "height": 34
        },
        "outputId": "110b2e50-07ff-406a-8d2a-efe539722168"
      },
      "source": [
        "lc = LinearSVC()\n",
        "clf3  = lc.fit(X_train, y_train)\n",
        "calibrated_svc = CalibratedClassifierCV(base_estimator=clf3, cv = \"prefit\")\n",
        "calibrated_svc.fit(X_train, y_train)\n",
        "clf_predict = calibrated_svc.predict(X_test)\n",
        "accuracy(clf_predict,y_test.values)"
      ],
      "execution_count": null,
      "outputs": [
        {
          "output_type": "execute_result",
          "data": {
            "text/plain": [
              "0.5629"
            ]
          },
          "metadata": {
            "tags": []
          },
          "execution_count": 60
        }
      ]
    },
    {
      "cell_type": "markdown",
      "metadata": {
        "id": "jpg4O6gGU8at",
        "colab_type": "text"
      },
      "source": [
        "Comparing the above models it is clear that the logistic regression model seems to be performing the best on our data set. now we will move to Neural networks models to see if we can improve on this accuracy any further without using the unlabled data."
      ]
    },
    {
      "cell_type": "markdown",
      "metadata": {
        "id": "aXJGgiMSZraN",
        "colab_type": "text"
      },
      "source": [
        "### Neural Network - Keras Implementation\n",
        "\n",
        "Here we try to see how a Neural Network would perform on our labled data.\n",
        "\n",
        "for this section we first try defining multi layered Neural network and 100 epochs to see how the test data vs the train data performs in terms of loss and accuracy. we visualise the findings by ploting the results for each epoch or iteration\n",
        "\n",
        "we then try and choose the best optimal parameters and fit the final model."
      ]
    },
    {
      "cell_type": "code",
      "metadata": {
        "id": "uAHzWu5YZpwS",
        "colab_type": "code",
        "colab": {
          "base_uri": "https://localhost:8080/",
          "height": 34
        },
        "outputId": "ad2f1251-a32a-4703-d7c4-ce0eed29d291"
      },
      "source": [
        "# creating an input dimension variable\n",
        "\n",
        "input_dim = X_train.shape[1]  # Number of features\n",
        "input_dim"
      ],
      "execution_count": null,
      "outputs": [
        {
          "output_type": "execute_result",
          "data": {
            "text/plain": [
              "10000"
            ]
          },
          "metadata": {
            "tags": []
          },
          "execution_count": 19
        }
      ]
    },
    {
      "cell_type": "code",
      "metadata": {
        "id": "QY03h_2_rOdL",
        "colab_type": "code",
        "colab": {
          "base_uri": "https://localhost:8080/",
          "height": 221
        },
        "outputId": "85beafa5-882e-43e4-8adf-93aba6becafd"
      },
      "source": [
        "# 1st Implementation\n",
        "model = Sequential()\n",
        "model.add(layers.Dense(6, input_dim=input_dim, activation='relu'))\n",
        "model.add(layers.Dense(6, activation='softmax'))\n",
        "model.compile(loss='sparse_categorical_crossentropy', optimizer='adam', metrics=['accuracy'])\n",
        "model.summary()"
      ],
      "execution_count": null,
      "outputs": [
        {
          "output_type": "stream",
          "text": [
            "Model: \"sequential_3\"\n",
            "_________________________________________________________________\n",
            "Layer (type)                 Output Shape              Param #   \n",
            "=================================================================\n",
            "dense_5 (Dense)              (None, 6)                 60006     \n",
            "_________________________________________________________________\n",
            "dense_6 (Dense)              (None, 6)                 42        \n",
            "=================================================================\n",
            "Total params: 60,048\n",
            "Trainable params: 60,048\n",
            "Non-trainable params: 0\n",
            "_________________________________________________________________\n"
          ],
          "name": "stdout"
        }
      ]
    },
    {
      "cell_type": "code",
      "metadata": {
        "id": "nSFKkOQTpW7z",
        "colab_type": "code",
        "colab": {
          "base_uri": "https://localhost:8080/",
          "height": 221
        },
        "outputId": "c692585c-0435-4270-f5b4-fcc7d578fd12"
      },
      "source": [
        "# 2nd implementation\n",
        "model = Sequential()\n",
        "model.add(Dense(31, activation='relu', input_dim=input_dim))\n",
        "model.add(Dense(6, activation='softmax'))\n",
        "model.compile(optimizer='rmsprop',\n",
        "              loss='sparse_categorical_crossentropy',\n",
        "              metrics=['accuracy'])\n",
        "model.summary()"
      ],
      "execution_count": null,
      "outputs": [
        {
          "output_type": "stream",
          "text": [
            "Model: \"sequential_5\"\n",
            "_________________________________________________________________\n",
            "Layer (type)                 Output Shape              Param #   \n",
            "=================================================================\n",
            "dense_9 (Dense)              (None, 31)                310031    \n",
            "_________________________________________________________________\n",
            "dense_10 (Dense)             (None, 6)                 192       \n",
            "=================================================================\n",
            "Total params: 310,223\n",
            "Trainable params: 310,223\n",
            "Non-trainable params: 0\n",
            "_________________________________________________________________\n"
          ],
          "name": "stdout"
        }
      ]
    },
    {
      "cell_type": "code",
      "metadata": {
        "id": "fF-kpBQyZp8m",
        "colab_type": "code",
        "colab": {}
      },
      "source": [
        "history = model.fit(X_train, y_train, epochs=100, verbose=False, validation_data=(X_test, y_test), batch_size=128)"
      ],
      "execution_count": null,
      "outputs": []
    },
    {
      "cell_type": "code",
      "metadata": {
        "id": "VUrGi3ImZqCp",
        "colab_type": "code",
        "colab": {
          "base_uri": "https://localhost:8080/",
          "height": 51
        },
        "outputId": "8cbf0caa-b2de-4f59-c1ac-addf97373fd6"
      },
      "source": [
        "loss, accuracy = model.evaluate(X_train, y_train, verbose=False)\n",
        "print(\"Training Accuracy: {:.4f}\".format(accuracy))\n",
        "loss, accuracy = model.evaluate(X_test, y_test, verbose=False)\n",
        "print(\"Testing Accuracy:  {:.4f}\".format(accuracy))"
      ],
      "execution_count": null,
      "outputs": [
        {
          "output_type": "stream",
          "text": [
            "Training Accuracy: 0.8469\n",
            "Testing Accuracy:  0.5436\n"
          ],
          "name": "stdout"
        }
      ]
    },
    {
      "cell_type": "code",
      "metadata": {
        "id": "285WsNoxZqAv",
        "colab_type": "code",
        "colab": {}
      },
      "source": [
        "import matplotlib.pyplot as plt\n",
        "plt.style.use('ggplot')\n",
        "\n",
        "def plot_history(history):\n",
        "    acc = history.history['acc']\n",
        "    val_acc = history.history['val_acc']\n",
        "    loss = history.history['loss']\n",
        "    val_loss = history.history['val_loss']\n",
        "    x = range(1, len(acc) + 1)\n",
        "\n",
        "    plt.figure(figsize=(12, 5))\n",
        "    plt.subplot(1, 2, 1)\n",
        "    plt.plot(x, acc, 'b', label='Training acc')\n",
        "    plt.plot(x, val_acc, 'r', label='Validation acc')\n",
        "    plt.title('Training and validation accuracy')\n",
        "    plt.legend()\n",
        "    plt.subplot(1, 2, 2)\n",
        "    plt.plot(x, loss, 'b', label='Training loss')\n",
        "    plt.plot(x, val_loss, 'r', label='Validation loss')\n",
        "    plt.title('Training and validation loss')\n",
        "    plt.legend()"
      ],
      "execution_count": null,
      "outputs": []
    },
    {
      "cell_type": "code",
      "metadata": {
        "id": "qyXNjj6CZp6Z",
        "colab_type": "code",
        "colab": {
          "base_uri": "https://localhost:8080/",
          "height": 337
        },
        "outputId": "0cd36435-6838-446c-92a4-76e0c123e8dd"
      },
      "source": [
        "plot_history(history)\n"
      ],
      "execution_count": null,
      "outputs": [
        {
          "output_type": "display_data",
          "data": {
            "image/png": "[encoded data removed]",
            "text/plain": [
              "<Figure size 864x360 with 2 Axes>"
            ]
          },
          "metadata": {
            "tags": []
          }
        }
      ]
    },
    {
      "cell_type": "markdown",
      "metadata": {
        "id": "zbyhJM2EVbRc",
        "colab_type": "text"
      },
      "source": [
        "from the above graph we could see that the validation graph shows a fast increase in the accuracy for the first couple of epochs but after that tends to drop and the loss shows the reverse trend which is as expected this shows that we can tune the model for optimal number of iterations and number of layers.\n",
        "\n",
        "based on the ablove we will now try fitting the model with 6 epoch and batch_size of 128 and then evaluate the model on the train and test sets"
      ]
    },
    {
      "cell_type": "code",
      "metadata": {
        "id": "60VM0pqpw8M3",
        "colab_type": "code",
        "colab": {}
      },
      "source": [
        "# Training on Train and Test split\n",
        "history = model.fit(X_train, y_train, epochs=6, verbose=False, validation_data=(X_test, y_test), batch_size=128)\n"
      ],
      "execution_count": null,
      "outputs": []
    },
    {
      "cell_type": "code",
      "metadata": {
        "id": "O0FVGqlYw8Ql",
        "colab_type": "code",
        "colab": {
          "base_uri": "https://localhost:8080/",
          "height": 51
        },
        "outputId": "afbd9efd-efc1-4bcd-f296-21a279bf802e"
      },
      "source": [
        "loss, accuracy = model.evaluate(X_train, y_train, verbose=False)\n",
        "print(\"Training Accuracy: {:.4f}\".format(accuracy))\n",
        "loss, accuracy = model.evaluate(X_test, y_test, verbose=False)\n",
        "print(\"Testing Accuracy:  {:.4f}\".format(accuracy))"
      ],
      "execution_count": null,
      "outputs": [
        {
          "output_type": "stream",
          "text": [
            "Training Accuracy: 0.8059\n",
            "Testing Accuracy:  0.6588\n"
          ],
          "name": "stdout"
        }
      ]
    },
    {
      "cell_type": "markdown",
      "metadata": {
        "id": "Th6uQW0lx1nG",
        "colab_type": "text"
      },
      "source": [
        "#### Cross Validation with NN\n",
        "\n",
        "Now inorder to see the overall performance of our Neural Network model from above we apply 10-Fold Cross validation to the model and train with multiple test and train splits to see how the overall model variance is on different splits"
      ]
    },
    {
      "cell_type": "code",
      "metadata": {
        "id": "LyLxFW2sqfAm",
        "colab_type": "code",
        "colab": {
          "base_uri": "https://localhost:8080/",
          "height": 204
        },
        "outputId": "2f8fb05a-8949-4853-a599-a03dbe59693c"
      },
      "source": [
        "# fix random seed for reproducibility\n",
        "\n",
        "seed = 7\n",
        "np.random.seed(seed)\n",
        "\n",
        "# split into input (X) and output (Y) variables\n",
        "X = df_data\n",
        "Y = pd.DataFrame(text.iloc[0:50000][\"label\"])\n",
        "\n",
        "# define 10-fold cross validation test harness\n",
        "kfold = StratifiedKFold(n_splits=10, shuffle=True, random_state=seed)\n",
        "cvscores = []\n",
        "\n",
        "for train, test in kfold.split(X, Y):\n",
        "  model = Sequential()\n",
        "  model.add(Dense(31, activation='relu', input_dim=input_dim))\n",
        "  model.add(Dense(6, activation='softmax'))\n",
        "  model.compile(optimizer='rmsprop', loss='sparse_categorical_crossentropy',\n",
        "               metrics=['accuracy'])\n",
        "  model.fit(X.ix[train], Y.ix[train], epochs=6, batch_size=128, verbose=False)\n",
        "  scores = model.evaluate(X.ix[test], Y.ix[test], verbose=False)\n",
        "  print(\"%s: %.2f%%\" % (model.metrics_names[1], scores[1]*100))\n",
        "  cvscores.append(scores[1] * 100)\n",
        "\n",
        "print(\"%.2f%% (+/- %.2f%%)\" % (numpy.mean(cvscores), numpy.std(cvscores)))"
      ],
      "execution_count": null,
      "outputs": [
        {
          "output_type": "stream",
          "text": [
            "acc: 61.20%\n",
            "acc: 60.56%\n",
            "acc: 61.61%\n",
            "acc: 60.45%\n",
            "acc: 62.07%\n",
            "acc: 59.83%\n",
            "acc: 62.53%\n",
            "acc: 60.21%\n",
            "acc: 61.30%\n",
            "acc: 59.40%\n",
            "60.91% (+/- 0.95%)\n"
          ],
          "name": "stdout"
        }
      ]
    },
    {
      "cell_type": "markdown",
      "metadata": {
        "id": "WierfNw10t-w",
        "colab_type": "text"
      },
      "source": [
        "From above we can see that the model is performing consistently with an average accuracy of 60.91% on 10 folds of split between test and train data.\n",
        "\n",
        "in the next step we look to a different version of Neural Networks the CNN to see if we can improve on this score even further using the labled data"
      ]
    },
    {
      "cell_type": "markdown",
      "metadata": {
        "id": "QQ20_KXcNmDH",
        "colab_type": "text"
      },
      "source": [
        "### Implementing convolutional neural network with Keras tokenizer and GloVe embedding\n",
        "\n",
        "Here we try another form of the neural network which is known to be good on image analysing but also good with text analysis, the aim here is to see if we can improve the results from the last model"
      ]
    },
    {
      "cell_type": "code",
      "metadata": {
        "id": "o2RlP7ibMwBz",
        "colab_type": "code",
        "colab": {}
      },
      "source": [
        "X = text['text'].tolist()"
      ],
      "execution_count": null,
      "outputs": []
    },
    {
      "cell_type": "code",
      "metadata": {
        "id": "LAgBn4qTNT4z",
        "colab_type": "code",
        "colab": {}
      },
      "source": [
        "y = text['label'].tolist()"
      ],
      "execution_count": null,
      "outputs": []
    },
    {
      "cell_type": "code",
      "metadata": {
        "id": "eroLyBTlNywN",
        "colab_type": "code",
        "colab": {}
      },
      "source": [
        "X_train, X_test, y_train, y_test = train_test_split(X, y, test_size=0.20, random_state=123)"
      ],
      "execution_count": null,
      "outputs": []
    },
    {
      "cell_type": "code",
      "metadata": {
        "id": "c6YupugZN8zs",
        "colab_type": "code",
        "colab": {}
      },
      "source": [
        "from keras.preprocessing.text import Tokenizer\n",
        "\n",
        "tokenizer = Tokenizer(num_words=5000)\n",
        "tokenizer.fit_on_texts(X_train)\n",
        "\n",
        "X_train = tokenizer.texts_to_sequences(X_train)\n",
        "X_test = tokenizer.texts_to_sequences(X_test)"
      ],
      "execution_count": null,
      "outputs": []
    },
    {
      "cell_type": "code",
      "metadata": {
        "id": "l0QLsoYCOVdh",
        "colab_type": "code",
        "colab": {}
      },
      "source": [
        "from keras.preprocessing.sequence import pad_sequences\n",
        "\n",
        "vocab_size = len(tokenizer.word_index) + 1\n",
        "\n",
        "maxlen = 100\n",
        "\n",
        "X_train = pad_sequences(X_train, padding='post', maxlen=maxlen)\n",
        "X_test = pad_sequences(X_test, padding='post', maxlen=maxlen)"
      ],
      "execution_count": null,
      "outputs": []
    },
    {
      "cell_type": "code",
      "metadata": {
        "id": "Nls6o24IOh-C",
        "colab_type": "code",
        "colab": {}
      },
      "source": [
        "from numpy import array\n",
        "from numpy import asarray\n",
        "from numpy import zeros\n",
        "\n",
        "embeddings_dictionary = dict()\n",
        "glove_file = open('/content/drive/My Drive/ADA_Assignment 2/glove_6B_100d.txt', encoding=\"utf8\")\n",
        "\n",
        "for line in glove_file:\n",
        "    records = line.split()\n",
        "    word = records[0]\n",
        "    vector_dimensions = asarray(records[1:], dtype='float32')\n",
        "    embeddings_dictionary [word] = vector_dimensions\n",
        "glove_file.close()"
      ],
      "execution_count": null,
      "outputs": []
    },
    {
      "cell_type": "code",
      "metadata": {
        "id": "7WIC8-E6TU64",
        "colab_type": "code",
        "colab": {}
      },
      "source": [
        "embedding_matrix = zeros((vocab_size, 100))\n",
        "for word, index in tokenizer.word_index.items():\n",
        "    embedding_vector = embeddings_dictionary.get(word)\n",
        "    if embedding_vector is not None:\n",
        "        embedding_matrix[index] = embedding_vector"
      ],
      "execution_count": null,
      "outputs": []
    },
    {
      "cell_type": "code",
      "metadata": {
        "id": "6UO2mYCfHeiw",
        "colab_type": "code",
        "colab": {
          "base_uri": "https://localhost:8080/",
          "height": 255
        },
        "outputId": "1bd30940-ae29-462c-ef92-a98bdc4a6881"
      },
      "source": [
        "from keras.models import Sequential\n",
        "from keras import layers\n",
        "from keras.layers import Dense, Activation, Dropout, Bidirectional, LSTM, Embedding, Conv1D, GlobalMaxPooling1D\n",
        "from keras.optimizers import SGD\n",
        "\n",
        "model = Sequential()\n",
        "\n",
        "embedding_layer = Embedding(vocab_size, 100, weights=[embedding_matrix], input_length=maxlen , trainable=False)\n",
        "model.add(embedding_layer)\n",
        "\n",
        "model.add(Conv1D(128, 5, activation='relu'))\n",
        "model.add(GlobalMaxPooling1D())\n",
        "model.add(Dense(6, activation='softmax'))\n",
        "model.compile(optimizer='adam', loss='sparse_categorical_crossentropy', metrics=['accuracy'])\n",
        "\n",
        "\n",
        "model.summary()"
      ],
      "execution_count": null,
      "outputs": [
        {
          "output_type": "stream",
          "text": [
            "Model: \"sequential_28\"\n",
            "_________________________________________________________________\n",
            "Layer (type)                 Output Shape              Param #   \n",
            "=================================================================\n",
            "embedding_14 (Embedding)     (None, 100, 100)          5051500   \n",
            "_________________________________________________________________\n",
            "flatten_5 (Flatten)          (None, 10000)             0         \n",
            "_________________________________________________________________\n",
            "dense_41 (Dense)             (None, 6)                 60006     \n",
            "=================================================================\n",
            "Total params: 5,111,506\n",
            "Trainable params: 60,006\n",
            "Non-trainable params: 5,051,500\n",
            "_________________________________________________________________\n"
          ],
          "name": "stdout"
        }
      ]
    },
    {
      "cell_type": "code",
      "metadata": {
        "id": "KipnjSpZUNh2",
        "colab_type": "code",
        "colab": {
          "base_uri": "https://localhost:8080/",
          "height": 238
        },
        "outputId": "64152f41-b07c-46b8-f28f-c0c2d3f5e472"
      },
      "source": [
        "history = model.fit(X_train, y_train, batch_size=128, epochs=6, verbose=1, validation_split=0.2)\n"
      ],
      "execution_count": null,
      "outputs": [
        {
          "output_type": "stream",
          "text": [
            "Train on 32000 samples, validate on 8000 samples\n",
            "Epoch 1/6\n",
            "32000/32000 [==============================] - 14s 442us/step - loss: 1.1876 - acc: 0.4776 - val_loss: 0.9878 - val_acc: 0.5666\n",
            "Epoch 2/6\n",
            "32000/32000 [==============================] - 13s 420us/step - loss: 0.7479 - acc: 0.7035 - val_loss: 1.0682 - val_acc: 0.5454\n",
            "Epoch 3/6\n",
            "32000/32000 [==============================] - 13s 420us/step - loss: 0.3438 - acc: 0.8881 - val_loss: 1.3558 - val_acc: 0.5302\n",
            "Epoch 4/6\n",
            "32000/32000 [==============================] - 14s 426us/step - loss: 0.1044 - acc: 0.9750 - val_loss: 1.6733 - val_acc: 0.5229\n",
            "Epoch 5/6\n",
            "32000/32000 [==============================] - 14s 425us/step - loss: 0.0288 - acc: 0.9962 - val_loss: 1.9158 - val_acc: 0.5246\n",
            "Epoch 6/6\n",
            "32000/32000 [==============================] - 14s 426us/step - loss: 0.0096 - acc: 0.9994 - val_loss: 2.1036 - val_acc: 0.5235\n"
          ],
          "name": "stdout"
        }
      ]
    },
    {
      "cell_type": "code",
      "metadata": {
        "id": "Ew2DWZOW_QtQ",
        "colab_type": "code",
        "colab": {
          "base_uri": "https://localhost:8080/",
          "height": 337
        },
        "outputId": "5d077970-9429-45c7-a725-933a411285ac"
      },
      "source": [
        "plot_history(history)"
      ],
      "execution_count": null,
      "outputs": [
        {
          "output_type": "display_data",
          "data": {
            "image/png": "[encoded data removed]",
            "text/plain": [
              "<Figure size 864x360 with 2 Axes>"
            ]
          },
          "metadata": {
            "tags": []
          }
        }
      ]
    },
    {
      "cell_type": "code",
      "metadata": {
        "id": "HLnKL6jV_QSy",
        "colab_type": "code",
        "colab": {
          "base_uri": "https://localhost:8080/",
          "height": 51
        },
        "outputId": "e5bea1ac-33ad-4873-b42a-c3c6a52a069f"
      },
      "source": [
        "loss, accuracy = model.evaluate(X_train, y_train, verbose=False)\n",
        "print(\"Training Accuracy: {:.4f}\".format(accuracy))\n",
        "loss, accuracy = model.evaluate(X_test, y_test, verbose=False)\n",
        "print(\"Testing Accuracy:  {:.4f}\".format(accuracy))"
      ],
      "execution_count": null,
      "outputs": [
        {
          "output_type": "stream",
          "text": [
            "Training Accuracy: 0.8939\n",
            "Testing Accuracy:  0.5008\n"
          ],
          "name": "stdout"
        }
      ]
    },
    {
      "cell_type": "markdown",
      "metadata": {
        "id": "3q0AxqM1RU5U",
        "colab_type": "text"
      },
      "source": [
        "We can see that this model is not performing better than the previous simple Neural network model we tuned for our data"
      ]
    },
    {
      "cell_type": "markdown",
      "metadata": {
        "id": "BGVKZIvoiz-H",
        "colab_type": "text"
      },
      "source": [
        "## Final Classifier"
      ]
    },
    {
      "cell_type": "markdown",
      "metadata": {
        "id": "VBs7CKoXBDNY",
        "colab_type": "text"
      },
      "source": [
        "### FAST.AI ULMFIT language modelling Classifier (Deep Learning Model)\n",
        "\n",
        "Now we try a different model that we reasearched and has been known to have good performance on multi language text data."
      ]
    },
    {
      "cell_type": "markdown",
      "metadata": {
        "id": "uCxRGKTt8d6v",
        "colab_type": "text"
      },
      "source": [
        "Setting up labelled data for use in the Language Modeller and the deep neural network text classifier using (Universal Language Model Fine-tuning)."
      ]
    },
    {
      "cell_type": "code",
      "metadata": {
        "id": "JCCPwOIfEfFq",
        "colab_type": "code",
        "colab": {
          "base_uri": "https://localhost:8080/",
          "height": 204
        },
        "outputId": "25b6b105-803a-48c5-e8cb-c0d70731b3b5"
      },
      "source": [
        "cols = labeled_data.columns.tolist()\n",
        "\n",
        "cols = cols[-1:] + cols[:-1]\n",
        "labeled_data=labeled_data[cols]\n",
        "labeled_data.head()"
      ],
      "execution_count": null,
      "outputs": [
        {
          "output_type": "execute_result",
          "data": {
            "text/html": [
              "<div>\n",
              "<style scoped>\n",
              "    .dataframe tbody tr th:only-of-type {\n",
              "        vertical-align: middle;\n",
              "    }\n",
              "\n",
              "    .dataframe tbody tr th {\n",
              "        vertical-align: top;\n",
              "    }\n",
              "\n",
              "    .dataframe thead th {\n",
              "        text-align: right;\n",
              "    }\n",
              "</style>\n",
              "<table border=\"1\" class=\"dataframe\">\n",
              "  <thead>\n",
              "    <tr style=\"text-align: right;\">\n",
              "      <th></th>\n",
              "      <th>label</th>\n",
              "      <th>text</th>\n",
              "    </tr>\n",
              "  </thead>\n",
              "  <tbody>\n",
              "    <tr>\n",
              "      <th>0</th>\n",
              "      <td>4</td>\n",
              "      <td>The new rule is - \\r\\nif you are waiting for a...</td>\n",
              "    </tr>\n",
              "    <tr>\n",
              "      <th>1</th>\n",
              "      <td>3</td>\n",
              "      <td>Flirted with giving this two stars, but that's...</td>\n",
              "    </tr>\n",
              "    <tr>\n",
              "      <th>2</th>\n",
              "      <td>5</td>\n",
              "      <td>I was staying at planet Hollywood across the s...</td>\n",
              "    </tr>\n",
              "    <tr>\n",
              "      <th>3</th>\n",
              "      <td>2</td>\n",
              "      <td>Food is good but prices are super expensive.  ...</td>\n",
              "    </tr>\n",
              "    <tr>\n",
              "      <th>4</th>\n",
              "      <td>1</td>\n",
              "      <td>Worse company to deal with they do horrible wo...</td>\n",
              "    </tr>\n",
              "  </tbody>\n",
              "</table>\n",
              "</div>"
            ],
            "text/plain": [
              "   label                                               text\n",
              "0      4  The new rule is - \\r\\nif you are waiting for a...\n",
              "1      3  Flirted with giving this two stars, but that's...\n",
              "2      5  I was staying at planet Hollywood across the s...\n",
              "3      2  Food is good but prices are super expensive.  ...\n",
              "4      1  Worse company to deal with they do horrible wo..."
            ]
          },
          "metadata": {
            "tags": []
          },
          "execution_count": 15
        }
      ]
    },
    {
      "cell_type": "markdown",
      "metadata": {
        "id": "ioNqk8b591Hc",
        "colab_type": "text"
      },
      "source": [
        "Setting up train and test data for model validation"
      ]
    },
    {
      "cell_type": "code",
      "metadata": {
        "id": "KBCgh0boDbrG",
        "colab_type": "code",
        "colab": {}
      },
      "source": [
        "df_trn, df_val = train_test_split(labeled_data, stratify = labeled_data['label'], test_size = 0.3)"
      ],
      "execution_count": null,
      "outputs": []
    },
    {
      "cell_type": "code",
      "metadata": {
        "id": "nml1b6XzD6cX",
        "colab_type": "code",
        "colab": {}
      },
      "source": [
        "# Language model data\n",
        "data_lm = TextLMDataBunch.from_df(train_df = df_trn, valid_df = df_val, path = \"\")\n",
        "# Classifier model data\n",
        "data_clas = TextClasDataBunch.from_df(train_df = df_trn, valid_df = df_val, path = \"\", vocab=data_lm.train_ds.vocab, bs=32)"
      ],
      "execution_count": null,
      "outputs": []
    },
    {
      "cell_type": "code",
      "metadata": {
        "id": "KaclbTlREI0h",
        "colab_type": "code",
        "colab": {
          "base_uri": "https://localhost:8080/",
          "height": 289
        },
        "outputId": "f180c265-68e1-44b7-964e-ef2d5d5a7ee4"
      },
      "source": [
        "data_clas.show_batch()"
      ],
      "execution_count": null,
      "outputs": [
        {
          "output_type": "display_data",
          "data": {
            "text/html": [
              "<table border=\"1\" class=\"dataframe\">\n",
              "  <thead>\n",
              "    <tr style=\"text-align: right;\">\n",
              "      <th>text</th>\n",
              "      <th>target</th>\n",
              "    </tr>\n",
              "  </thead>\n",
              "  <tbody>\n",
              "    <tr>\n",
              "      <td>xxbos xxmaj okay , stayed here xxmaj mon . , xxmaj oct. 21st - xxmaj fri . , xxmaj oct. 25th . xxup omg ! xxmaj what a nightmare ! i will never stay here until renovations are done . xxmaj there is two major pros ... price ( it 's so cheap ! ) and location , location , location . xxmaj seriously , you 're dab smack in</td>\n",
              "      <td>1</td>\n",
              "    </tr>\n",
              "    <tr>\n",
              "      <td>xxbos xxmaj if your discharged patient into rehab is at all un alert , too trusting , goes with flow , ca n't or wo n't speak up for themselves xxrep 4 . \\r \\n \\r \\n  xxup avoid xxup avoid xxup avoid and if you ca n't -- watch them 16 hours a day . \\r \\n \\r \\n  xxmaj they deliver breathing treatments and anything highly</td>\n",
              "      <td>1</td>\n",
              "    </tr>\n",
              "    <tr>\n",
              "      <td>xxbos xxup cj , a manager , had contacted me and asked me to call him about my experiences . xxmaj we chatted and i said i would give them another try . \\r \\n \\r \\n  xxmaj amy recognized me ( good or bad , i was impressed ) and made no bones about apologizing for that first night and expressing her hope that this time would be</td>\n",
              "      <td>2</td>\n",
              "    </tr>\n",
              "    <tr>\n",
              "      <td>xxbos xxmaj little xxmaj bavaria has the xxup worst xxup german xxup food myself or my fiancee have ever eaten . xxmaj we walked out feeling like we had taken a wrong turn into a xxmaj berlin ghetto &amp; suffered a xxunk at the hands of ruthless xxunk . xxmaj let me explain why we had one of the worst food experiences of our lives ... \\r \\n \\r \\n</td>\n",
              "      <td>1</td>\n",
              "    </tr>\n",
              "    <tr>\n",
              "      <td>xxbos xxmaj great xxmaj local xxmaj casino and xxmaj hotel ! xxmaj great service ! xxmaj appreciative staff ! \\r \\n \\r \\n  i think this place is a great location for a local casino xxup and hotel . xxmaj first off they have friendly staff though of course i ca n't say xxup every person . xxmaj some hosts are better than others but the front desk staff</td>\n",
              "      <td>4</td>\n",
              "    </tr>\n",
              "  </tbody>\n",
              "</table>"
            ],
            "text/plain": [
              "<IPython.core.display.HTML object>"
            ]
          },
          "metadata": {
            "tags": []
          }
        }
      ]
    },
    {
      "cell_type": "markdown",
      "metadata": {
        "id": "6-4nM0Zo98vo",
        "colab_type": "text"
      },
      "source": [
        "#### Language Modeller"
      ]
    },
    {
      "cell_type": "markdown",
      "metadata": {
        "id": "MQ8A576d_Ay2",
        "colab_type": "text"
      },
      "source": [
        "Setting up the language modeller for the text classifier we require for the model"
      ]
    },
    {
      "cell_type": "code",
      "metadata": {
        "id": "OXfD6qb7GH56",
        "colab_type": "code",
        "colab": {}
      },
      "source": [
        "learn = language_model_learner(data_lm, AWD_LSTM, drop_mult=0.3)"
      ],
      "execution_count": null,
      "outputs": []
    },
    {
      "cell_type": "markdown",
      "metadata": {
        "id": "EQ1sw5sN-dxJ",
        "colab_type": "text"
      },
      "source": [
        "Finding the optimum initial learning rate for the language modeller. The graph below shows the optimal rate to be 1.91E-02."
      ]
    },
    {
      "cell_type": "code",
      "metadata": {
        "id": "p7oM1_RaGWkb",
        "colab_type": "code",
        "colab": {
          "base_uri": "https://localhost:8080/",
          "height": 330
        },
        "outputId": "fe6ef55e-712f-4a22-d0b0-9c3033c2488e"
      },
      "source": [
        "learn.lr_find()\n",
        "learn.recorder.plot(suggestion=True)\n",
        "min_grad_lr = learn.recorder.min_grad_lr"
      ],
      "execution_count": null,
      "outputs": [
        {
          "output_type": "display_data",
          "data": {
            "text/html": [
              ""
            ],
            "text/plain": [
              "<IPython.core.display.HTML object>"
            ]
          },
          "metadata": {
            "tags": []
          }
        },
        {
          "output_type": "stream",
          "text": [
            "LR Finder is complete, type {learner_name}.recorder.plot() to see the graph.\n",
            "Min numerical gradient: 1.91E-02\n",
            "Min loss divided by 10: 1.74E-02\n"
          ],
          "name": "stdout"
        },
        {
          "output_type": "display_data",
          "data": {
            "image/png": "[encoded data removed]",
            "text/plain": [
              "<Figure size 432x288 with 1 Axes>"
            ]
          },
          "metadata": {
            "tags": []
          }
        }
      ]
    },
    {
      "cell_type": "markdown",
      "metadata": {
        "id": "klsrVukM_Eaa",
        "colab_type": "text"
      },
      "source": [
        "Initial training of the language modeller on the Yalp labeled data set. "
      ]
    },
    {
      "cell_type": "code",
      "metadata": {
        "id": "CdzC0A9HGuvx",
        "colab_type": "code",
        "colab": {
          "base_uri": "https://localhost:8080/",
          "height": 111
        },
        "outputId": "1993dd23-fbab-4b77-8b81-2c50774a7179"
      },
      "source": [
        "learn.fit_one_cycle(2, min_grad_lr)"
      ],
      "execution_count": null,
      "outputs": [
        {
          "output_type": "display_data",
          "data": {
            "text/html": [
              "<table border=\"1\" class=\"dataframe\">\n",
              "  <thead>\n",
              "    <tr style=\"text-align: left;\">\n",
              "      <th>epoch</th>\n",
              "      <th>train_loss</th>\n",
              "      <th>valid_loss</th>\n",
              "      <th>accuracy</th>\n",
              "      <th>time</th>\n",
              "    </tr>\n",
              "  </thead>\n",
              "  <tbody>\n",
              "    <tr>\n",
              "      <td>0</td>\n",
              "      <td>4.151972</td>\n",
              "      <td>4.007540</td>\n",
              "      <td>0.269339</td>\n",
              "      <td>12:44</td>\n",
              "    </tr>\n",
              "    <tr>\n",
              "      <td>1</td>\n",
              "      <td>3.880154</td>\n",
              "      <td>3.839057</td>\n",
              "      <td>0.284353</td>\n",
              "      <td>12:44</td>\n",
              "    </tr>\n",
              "  </tbody>\n",
              "</table>"
            ],
            "text/plain": [
              "<IPython.core.display.HTML object>"
            ]
          },
          "metadata": {
            "tags": []
          }
        }
      ]
    },
    {
      "cell_type": "markdown",
      "metadata": {
        "id": "UfllL4RX_07g",
        "colab_type": "text"
      },
      "source": [
        "Further training of the modeler with smaller learning rate to improve accuracy."
      ]
    },
    {
      "cell_type": "code",
      "metadata": {
        "id": "PRy5zp-qHEnK",
        "colab_type": "code",
        "colab": {
          "base_uri": "https://localhost:8080/",
          "height": 111
        },
        "outputId": "af9032f9-ea03-40c2-89b4-7726779340e3"
      },
      "source": [
        "learn.unfreeze()\n",
        "learn.fit_one_cycle(2, 1e-3)"
      ],
      "execution_count": null,
      "outputs": [
        {
          "output_type": "display_data",
          "data": {
            "text/html": [
              "<table border=\"1\" class=\"dataframe\">\n",
              "  <thead>\n",
              "    <tr style=\"text-align: left;\">\n",
              "      <th>epoch</th>\n",
              "      <th>train_loss</th>\n",
              "      <th>valid_loss</th>\n",
              "      <th>accuracy</th>\n",
              "      <th>time</th>\n",
              "    </tr>\n",
              "  </thead>\n",
              "  <tbody>\n",
              "    <tr>\n",
              "      <td>0</td>\n",
              "      <td>3.595788</td>\n",
              "      <td>3.657437</td>\n",
              "      <td>0.305355</td>\n",
              "      <td>14:58</td>\n",
              "    </tr>\n",
              "    <tr>\n",
              "      <td>1</td>\n",
              "      <td>3.413057</td>\n",
              "      <td>3.599689</td>\n",
              "      <td>0.313078</td>\n",
              "      <td>14:58</td>\n",
              "    </tr>\n",
              "  </tbody>\n",
              "</table>"
            ],
            "text/plain": [
              "<IPython.core.display.HTML object>"
            ]
          },
          "metadata": {
            "tags": []
          }
        }
      ]
    },
    {
      "cell_type": "markdown",
      "metadata": {
        "id": "SPLKT6FEAkbU",
        "colab_type": "text"
      },
      "source": [
        "Saving language encoder for future use."
      ]
    },
    {
      "cell_type": "code",
      "metadata": {
        "id": "80bMuQLdPMZq",
        "colab_type": "code",
        "colab": {}
      },
      "source": [
        "learn.save_encoder('ft_enc')"
      ],
      "execution_count": null,
      "outputs": []
    },
    {
      "cell_type": "markdown",
      "metadata": {
        "id": "f2bsN4qSAv2N",
        "colab_type": "text"
      },
      "source": [
        "#### ULMFit Text Classifier (RNN classifier)"
      ]
    },
    {
      "cell_type": "markdown",
      "metadata": {
        "id": "TOdw41UnA23J",
        "colab_type": "text"
      },
      "source": [
        "Setting up the classifier for predictions."
      ]
    },
    {
      "cell_type": "code",
      "metadata": {
        "id": "7VdY5O-RTZ24",
        "colab_type": "code",
        "colab": {
          "base_uri": "https://localhost:8080/",
          "height": 1000
        },
        "outputId": "c9e49968-17e9-47eb-f2ae-077267260c59"
      },
      "source": [
        "learn = text_classifier_learner(data_clas, AWD_LSTM, drop_mult=0.3)\n",
        "learn.load_encoder('ft_enc')"
      ],
      "execution_count": null,
      "outputs": [
        {
          "output_type": "execute_result",
          "data": {
            "text/plain": [
              "RNNLearner(data=TextClasDataBunch;\n",
              "\n",
              "Train: LabelList (35000 items)\n",
              "x: TextList\n",
              "xxbos xxmaj we got in just before midnight , had a friend who had a table come out to get us and even though they already used all their comps , the bouncers were nice enough to still let us in for free . xxmaj it 's not as glamorous or spacious as xxup xs and has more of a lounge - y feel to it , but i liked the crowd better . xxmaj the night i was there , it was a waaay older crowd but still fun nonetheless ! xxmaj small dance floor but huge outdoor patio with tons and tons of cabanas .,xxbos xxmaj kind of like an over - priced , over - packed goodwill . xxmaj except , the customer service is worse here . : / \n",
              " \n",
              " \n",
              " \n",
              "  i hate leaving bad reviews but the workers here just do n't seem to want to work , or help , or even bother to be very friendly . \n",
              " \n",
              "  i used my xxmaj groupon so now i do n't have to go back ...,xxbos xxmaj the food at xxmaj ravi xxmaj soups makes for a quick and moderately priced lunch . xxmaj as the name suggests , their menu includes a selection of soups . xxmaj both tasty and unique , each soup is very good indeed . xxmaj the portions are a little small however , and it is somewhat on the expensive side . xxmaj the quality and freshness of the ingredients is apparent , and certainly justifies the price tag . \n",
              " \n",
              " \n",
              " \n",
              "  xxmaj it is their wraps however that really make the place worth visiting . xxmaj the lamb wrap , is exceptional . xxmaj without doubt some of the best curried lamb i have ever had the pleasure to enjoy . xxmaj the addition of pineapple really helps balance out the flavor . \n",
              " \n",
              " \n",
              " \n",
              "  xxmaj all in , this provides a great place for lunch or dinner , the price point is a little high though .,xxbos xxmaj we arrived about 40 minutes before they opened and waited in line , patiently taking in the aroma of all of the xxunk meats . xxmaj once we got inside the shop , we were given a sample of the brisket . xxmaj by far the best brisket i have ever eaten in xxmaj arizona , and it would rival , if not xxunk many of the briskets in xxmaj texas . xxmaj we ordered a sample of each meat as we could not choose . xxmaj my personal favorite was the lean brisket , but most people seemed to love the fatty brisket . xxmaj the sausage was also spectacular . xxmaj we also had a few pork ribs . xxmaj we will certainly be back again when we are craving some authentic barbeque .,xxbos xxmaj good service , quiet place which i like ... clean and they serve unique drinks ... definitely xxunk back to try the other on their menu ... only that they close at 11 pm which is to early ... they open at 12 pm which is too late ... it should be the other way around 11 am open and close xxunk ... it works best for our schedules ...\n",
              "y: CategoryList\n",
              "3,2,3,5,5\n",
              "Path: .;\n",
              "\n",
              "Valid: LabelList (15000 items)\n",
              "x: TextList\n",
              "xxbos xxmaj sorry to all those that rave about this place , it was good but it was n't crave worthy by any means \n",
              " \n",
              " \n",
              " \n",
              "  xxmaj the crust was burnt , and the large was pretty much a small . \n",
              " \n",
              "  xxmaj we ordered extra sides of marinara and it was left out . \n",
              " \n",
              " \n",
              " \n",
              "  xxmaj maybe i hit a bad night and will have to try again .,xxbos xxmaj bought a living social deal for this place and i was very impressed . i got the traditional gyro and there was a xxup ton of meat on it . xxmaj my wife got the gyro platter which came with a side salad and a generous amount of fries . xxmaj they put so much meat on her platter i had to help finish it ( which i totally did n't mind ) . xxmaj very clean dining area with a modern vibe . xxmaj would definitely come here again .,xxbos xxmaj this is actually such a good place to get pizza . xxmaj it 's really cheap & extremely underrated . xxmaj the only downside is if you 're waiting inside the place for your pizza , or dining in , there is no air conditioning & no wifi . i love everything about it except for that .,xxbos xxmaj came in here for lunch on xxmaj veterans xxmaj day , had probably the worst service i 've ever had and i frequent xxmaj buffalo xxmaj wild xxmaj wings quite often . i 'm still currently waiting for my food and it 's been almost an hour . xxmaj we had to change our order to go because we had to get back to work . xxmaj just received our food and they got half of our order wrong . xxmaj but we do n't have any more time to sit around and wait , management was apologetic but the bartender could n't get our drink order of a xxmaj pepsi and xxmaj dr. xxmaj pepper right . xxup never coming here again and i work less than 5 miles away,xxbos xxmaj took the two mutts for grooming , super friendly and accommodating . xxmaj groomer is fantastic , she genuinely loves your pets . xxmaj in the bigger outfits , i feel the groomers are going through the motions but here feels different , good different . xxmaj lots of baked treats and accessories to pamper the privileged xxmaj summerlin pooch . i highly recommend and will use exclusively .\n",
              "y: CategoryList\n",
              "3,4,4,1,5\n",
              "Path: .;\n",
              "\n",
              "Test: None, model=SequentialRNN(\n",
              "  (0): MultiBatchEncoder(\n",
              "    (module): AWD_LSTM(\n",
              "      (encoder): Embedding(29872, 400, padding_idx=1)\n",
              "      (encoder_dp): EmbeddingDropout(\n",
              "        (emb): Embedding(29872, 400, padding_idx=1)\n",
              "      )\n",
              "      (rnns): ModuleList(\n",
              "        (0): WeightDropout(\n",
              "          (module): LSTM(400, 1152, batch_first=True)\n",
              "        )\n",
              "        (1): WeightDropout(\n",
              "          (module): LSTM(1152, 1152, batch_first=True)\n",
              "        )\n",
              "        (2): WeightDropout(\n",
              "          (module): LSTM(1152, 400, batch_first=True)\n",
              "        )\n",
              "      )\n",
              "      (input_dp): RNNDropout()\n",
              "      (hidden_dps): ModuleList(\n",
              "        (0): RNNDropout()\n",
              "        (1): RNNDropout()\n",
              "        (2): RNNDropout()\n",
              "      )\n",
              "    )\n",
              "  )\n",
              "  (1): PoolingLinearClassifier(\n",
              "    (layers): Sequential(\n",
              "      (0): BatchNorm1d(1200, eps=1e-05, momentum=0.1, affine=True, track_running_stats=True)\n",
              "      (1): Dropout(p=0.12, inplace=False)\n",
              "      (2): Linear(in_features=1200, out_features=50, bias=True)\n",
              "      (3): ReLU(inplace=True)\n",
              "      (4): BatchNorm1d(50, eps=1e-05, momentum=0.1, affine=True, track_running_stats=True)\n",
              "      (5): Dropout(p=0.1, inplace=False)\n",
              "      (6): Linear(in_features=50, out_features=5, bias=True)\n",
              "    )\n",
              "  )\n",
              "), opt_func=functools.partial(<class 'torch.optim.adam.Adam'>, betas=(0.9, 0.99)), loss_func=FlattenedLoss of CrossEntropyLoss(), metrics=[<function accuracy at 0x7fae210362f0>], true_wd=True, bn_wd=True, wd=0.01, train_bn=True, path=PosixPath('.'), model_dir='models', callback_fns=[functools.partial(<class 'fastai.basic_train.Recorder'>, add_time=True, silent=False)], callbacks=[RNNTrainer\n",
              "learn: RNNLearner(data=TextClasDataBunch;\n",
              "\n",
              "Train: LabelList (35000 items)\n",
              "x: TextList\n",
              "xxbos xxmaj we got in just before midnight , had a friend who had a table come out to get us and even though they already used all their comps , the bouncers were nice enough to still let us in for free . xxmaj it 's not as glamorous or spacious as xxup xs and has more of a lounge - y feel to it , but i liked the crowd better . xxmaj the night i was there , it was a waaay older crowd but still fun nonetheless ! xxmaj small dance floor but huge outdoor patio with tons and tons of cabanas .,xxbos xxmaj kind of like an over - priced , over - packed goodwill . xxmaj except , the customer service is worse here . : / \n",
              " \n",
              " \n",
              " \n",
              "  i hate leaving bad reviews but the workers here just do n't seem to want to work , or help , or even bother to be very friendly . \n",
              " \n",
              "  i used my xxmaj groupon so now i do n't have to go back ...,xxbos xxmaj the food at xxmaj ravi xxmaj soups makes for a quick and moderately priced lunch . xxmaj as the name suggests , their menu includes a selection of soups . xxmaj both tasty and unique , each soup is very good indeed . xxmaj the portions are a little small however , and it is somewhat on the expensive side . xxmaj the quality and freshness of the ingredients is apparent , and certainly justifies the price tag . \n",
              " \n",
              " \n",
              " \n",
              "  xxmaj it is their wraps however that really make the place worth visiting . xxmaj the lamb wrap , is exceptional . xxmaj without doubt some of the best curried lamb i have ever had the pleasure to enjoy . xxmaj the addition of pineapple really helps balance out the flavor . \n",
              " \n",
              " \n",
              " \n",
              "  xxmaj all in , this provides a great place for lunch or dinner , the price point is a little high though .,xxbos xxmaj we arrived about 40 minutes before they opened and waited in line , patiently taking in the aroma of all of the xxunk meats . xxmaj once we got inside the shop , we were given a sample of the brisket . xxmaj by far the best brisket i have ever eaten in xxmaj arizona , and it would rival , if not xxunk many of the briskets in xxmaj texas . xxmaj we ordered a sample of each meat as we could not choose . xxmaj my personal favorite was the lean brisket , but most people seemed to love the fatty brisket . xxmaj the sausage was also spectacular . xxmaj we also had a few pork ribs . xxmaj we will certainly be back again when we are craving some authentic barbeque .,xxbos xxmaj good service , quiet place which i like ... clean and they serve unique drinks ... definitely xxunk back to try the other on their menu ... only that they close at 11 pm which is to early ... they open at 12 pm which is too late ... it should be the other way around 11 am open and close xxunk ... it works best for our schedules ...\n",
              "y: CategoryList\n",
              "3,2,3,5,5\n",
              "Path: .;\n",
              "\n",
              "Valid: LabelList (15000 items)\n",
              "x: TextList\n",
              "xxbos xxmaj sorry to all those that rave about this place , it was good but it was n't crave worthy by any means \n",
              " \n",
              " \n",
              " \n",
              "  xxmaj the crust was burnt , and the large was pretty much a small . \n",
              " \n",
              "  xxmaj we ordered extra sides of marinara and it was left out . \n",
              " \n",
              " \n",
              " \n",
              "  xxmaj maybe i hit a bad night and will have to try again .,xxbos xxmaj bought a living social deal for this place and i was very impressed . i got the traditional gyro and there was a xxup ton of meat on it . xxmaj my wife got the gyro platter which came with a side salad and a generous amount of fries . xxmaj they put so much meat on her platter i had to help finish it ( which i totally did n't mind ) . xxmaj very clean dining area with a modern vibe . xxmaj would definitely come here again .,xxbos xxmaj this is actually such a good place to get pizza . xxmaj it 's really cheap & extremely underrated . xxmaj the only downside is if you 're waiting inside the place for your pizza , or dining in , there is no air conditioning & no wifi . i love everything about it except for that .,xxbos xxmaj came in here for lunch on xxmaj veterans xxmaj day , had probably the worst service i 've ever had and i frequent xxmaj buffalo xxmaj wild xxmaj wings quite often . i 'm still currently waiting for my food and it 's been almost an hour . xxmaj we had to change our order to go because we had to get back to work . xxmaj just received our food and they got half of our order wrong . xxmaj but we do n't have any more time to sit around and wait , management was apologetic but the bartender could n't get our drink order of a xxmaj pepsi and xxmaj dr. xxmaj pepper right . xxup never coming here again and i work less than 5 miles away,xxbos xxmaj took the two mutts for grooming , super friendly and accommodating . xxmaj groomer is fantastic , she genuinely loves your pets . xxmaj in the bigger outfits , i feel the groomers are going through the motions but here feels different , good different . xxmaj lots of baked treats and accessories to pamper the privileged xxmaj summerlin pooch . i highly recommend and will use exclusively .\n",
              "y: CategoryList\n",
              "3,4,4,1,5\n",
              "Path: .;\n",
              "\n",
              "Test: None, model=SequentialRNN(\n",
              "  (0): MultiBatchEncoder(\n",
              "    (module): AWD_LSTM(\n",
              "      (encoder): Embedding(29872, 400, padding_idx=1)\n",
              "      (encoder_dp): EmbeddingDropout(\n",
              "        (emb): Embedding(29872, 400, padding_idx=1)\n",
              "      )\n",
              "      (rnns): ModuleList(\n",
              "        (0): WeightDropout(\n",
              "          (module): LSTM(400, 1152, batch_first=True)\n",
              "        )\n",
              "        (1): WeightDropout(\n",
              "          (module): LSTM(1152, 1152, batch_first=True)\n",
              "        )\n",
              "        (2): WeightDropout(\n",
              "          (module): LSTM(1152, 400, batch_first=True)\n",
              "        )\n",
              "      )\n",
              "      (input_dp): RNNDropout()\n",
              "      (hidden_dps): ModuleList(\n",
              "        (0): RNNDropout()\n",
              "        (1): RNNDropout()\n",
              "        (2): RNNDropout()\n",
              "      )\n",
              "    )\n",
              "  )\n",
              "  (1): PoolingLinearClassifier(\n",
              "    (layers): Sequential(\n",
              "      (0): BatchNorm1d(1200, eps=1e-05, momentum=0.1, affine=True, track_running_stats=True)\n",
              "      (1): Dropout(p=0.12, inplace=False)\n",
              "      (2): Linear(in_features=1200, out_features=50, bias=True)\n",
              "      (3): ReLU(inplace=True)\n",
              "      (4): BatchNorm1d(50, eps=1e-05, momentum=0.1, affine=True, track_running_stats=True)\n",
              "      (5): Dropout(p=0.1, inplace=False)\n",
              "      (6): Linear(in_features=50, out_features=5, bias=True)\n",
              "    )\n",
              "  )\n",
              "), opt_func=functools.partial(<class 'torch.optim.adam.Adam'>, betas=(0.9, 0.99)), loss_func=FlattenedLoss of CrossEntropyLoss(), metrics=[<function accuracy at 0x7fae210362f0>], true_wd=True, bn_wd=True, wd=0.01, train_bn=True, path=PosixPath('.'), model_dir='models', callback_fns=[functools.partial(<class 'fastai.basic_train.Recorder'>, add_time=True, silent=False)], callbacks=[...], layer_groups=[Sequential(\n",
              "  (0): Embedding(29872, 400, padding_idx=1)\n",
              "  (1): EmbeddingDropout(\n",
              "    (emb): Embedding(29872, 400, padding_idx=1)\n",
              "  )\n",
              "), Sequential(\n",
              "  (0): WeightDropout(\n",
              "    (module): LSTM(400, 1152, batch_first=True)\n",
              "  )\n",
              "  (1): RNNDropout()\n",
              "), Sequential(\n",
              "  (0): WeightDropout(\n",
              "    (module): LSTM(1152, 1152, batch_first=True)\n",
              "  )\n",
              "  (1): RNNDropout()\n",
              "), Sequential(\n",
              "  (0): WeightDropout(\n",
              "    (module): LSTM(1152, 400, batch_first=True)\n",
              "  )\n",
              "  (1): RNNDropout()\n",
              "), Sequential(\n",
              "  (0): PoolingLinearClassifier(\n",
              "    (layers): Sequential(\n",
              "      (0): BatchNorm1d(1200, eps=1e-05, momentum=0.1, affine=True, track_running_stats=True)\n",
              "      (1): Dropout(p=0.12, inplace=False)\n",
              "      (2): Linear(in_features=1200, out_features=50, bias=True)\n",
              "      (3): ReLU(inplace=True)\n",
              "      (4): BatchNorm1d(50, eps=1e-05, momentum=0.1, affine=True, track_running_stats=True)\n",
              "      (5): Dropout(p=0.1, inplace=False)\n",
              "      (6): Linear(in_features=50, out_features=5, bias=True)\n",
              "    )\n",
              "  )\n",
              ")], add_time=True, silent=False)\n",
              "alpha: 2.0\n",
              "beta: 1.0], layer_groups=[Sequential(\n",
              "  (0): Embedding(29872, 400, padding_idx=1)\n",
              "  (1): EmbeddingDropout(\n",
              "    (emb): Embedding(29872, 400, padding_idx=1)\n",
              "  )\n",
              "), Sequential(\n",
              "  (0): WeightDropout(\n",
              "    (module): LSTM(400, 1152, batch_first=True)\n",
              "  )\n",
              "  (1): RNNDropout()\n",
              "), Sequential(\n",
              "  (0): WeightDropout(\n",
              "    (module): LSTM(1152, 1152, batch_first=True)\n",
              "  )\n",
              "  (1): RNNDropout()\n",
              "), Sequential(\n",
              "  (0): WeightDropout(\n",
              "    (module): LSTM(1152, 400, batch_first=True)\n",
              "  )\n",
              "  (1): RNNDropout()\n",
              "), Sequential(\n",
              "  (0): PoolingLinearClassifier(\n",
              "    (layers): Sequential(\n",
              "      (0): BatchNorm1d(1200, eps=1e-05, momentum=0.1, affine=True, track_running_stats=True)\n",
              "      (1): Dropout(p=0.12, inplace=False)\n",
              "      (2): Linear(in_features=1200, out_features=50, bias=True)\n",
              "      (3): ReLU(inplace=True)\n",
              "      (4): BatchNorm1d(50, eps=1e-05, momentum=0.1, affine=True, track_running_stats=True)\n",
              "      (5): Dropout(p=0.1, inplace=False)\n",
              "      (6): Linear(in_features=50, out_features=5, bias=True)\n",
              "    )\n",
              "  )\n",
              ")], add_time=True, silent=False)"
            ]
          },
          "metadata": {
            "tags": []
          },
          "execution_count": 24
        }
      ]
    },
    {
      "cell_type": "markdown",
      "metadata": {
        "id": "x3XgtvnbDasy",
        "colab_type": "text"
      },
      "source": [
        "Finding optimal learning rate for text classifier. From the graph, it is 1.45E-02."
      ]
    },
    {
      "cell_type": "code",
      "metadata": {
        "id": "WwCmGWdATgZy",
        "colab_type": "code",
        "colab": {
          "base_uri": "https://localhost:8080/",
          "height": 330
        },
        "outputId": "b446da5b-ecea-449c-bf32-d338798f5cb8"
      },
      "source": [
        "learn.lr_find()\n",
        "learn.recorder.plot(suggestion=True)\n",
        "min_grad_lr = learn.recorder.min_grad_lr"
      ],
      "execution_count": null,
      "outputs": [
        {
          "output_type": "display_data",
          "data": {
            "text/html": [
              ""
            ],
            "text/plain": [
              "<IPython.core.display.HTML object>"
            ]
          },
          "metadata": {
            "tags": []
          }
        },
        {
          "output_type": "stream",
          "text": [
            "LR Finder is complete, type {learner_name}.recorder.plot() to see the graph.\n",
            "Min numerical gradient: 1.45E-03\n",
            "Min loss divided by 10: 1.74E-02\n"
          ],
          "name": "stdout"
        },
        {
          "output_type": "display_data",
          "data": {
            "image/png": "[encoded data removed]",
            "text/plain": [
              "<Figure size 432x288 with 1 Axes>"
            ]
          },
          "metadata": {
            "tags": []
          }
        }
      ]
    },
    {
      "cell_type": "markdown",
      "metadata": {
        "id": "6GHbZJ4qEWxY",
        "colab_type": "text"
      },
      "source": [
        "Initial training of the classifier. Increase in accuracy from epoch 1 to epoch 2."
      ]
    },
    {
      "cell_type": "code",
      "metadata": {
        "id": "oh26Kp9NUZYw",
        "colab_type": "code",
        "colab": {
          "base_uri": "https://localhost:8080/",
          "height": 111
        },
        "outputId": "ead66050-97da-4d9c-9d7d-3f57c6193e1a"
      },
      "source": [
        "learn.fit_one_cycle(2, min_grad_lr)"
      ],
      "execution_count": null,
      "outputs": [
        {
          "output_type": "display_data",
          "data": {
            "text/html": [
              "<table border=\"1\" class=\"dataframe\">\n",
              "  <thead>\n",
              "    <tr style=\"text-align: left;\">\n",
              "      <th>epoch</th>\n",
              "      <th>train_loss</th>\n",
              "      <th>valid_loss</th>\n",
              "      <th>accuracy</th>\n",
              "      <th>time</th>\n",
              "    </tr>\n",
              "  </thead>\n",
              "  <tbody>\n",
              "    <tr>\n",
              "      <td>0</td>\n",
              "      <td>1.014255</td>\n",
              "      <td>0.946059</td>\n",
              "      <td>0.586933</td>\n",
              "      <td>08:11</td>\n",
              "    </tr>\n",
              "    <tr>\n",
              "      <td>1</td>\n",
              "      <td>0.957335</td>\n",
              "      <td>0.909459</td>\n",
              "      <td>0.604800</td>\n",
              "      <td>08:14</td>\n",
              "    </tr>\n",
              "  </tbody>\n",
              "</table>"
            ],
            "text/plain": [
              "<IPython.core.display.HTML object>"
            ]
          },
          "metadata": {
            "tags": []
          }
        }
      ]
    },
    {
      "cell_type": "markdown",
      "metadata": {
        "id": "UbDIb_IoFkHe",
        "colab_type": "text"
      },
      "source": [
        "Training of last 2 layers with a range of learning rates (indicated by slice) and momentum vector 0.8 and 0.7."
      ]
    },
    {
      "cell_type": "code",
      "metadata": {
        "id": "w4FKNNRbYQgk",
        "colab_type": "code",
        "colab": {
          "base_uri": "https://localhost:8080/",
          "height": 173
        },
        "outputId": "1511ca36-3652-44ec-9b02-1e55685e2fa5"
      },
      "source": [
        "learn.freeze_to(-2)\n",
        "learn.fit_one_cycle(4, slice(5e-3, 2e-3), moms=(0.8,0.7))"
      ],
      "execution_count": null,
      "outputs": [
        {
          "output_type": "display_data",
          "data": {
            "text/html": [
              "<table border=\"1\" class=\"dataframe\">\n",
              "  <thead>\n",
              "    <tr style=\"text-align: left;\">\n",
              "      <th>epoch</th>\n",
              "      <th>train_loss</th>\n",
              "      <th>valid_loss</th>\n",
              "      <th>accuracy</th>\n",
              "      <th>time</th>\n",
              "    </tr>\n",
              "  </thead>\n",
              "  <tbody>\n",
              "    <tr>\n",
              "      <td>0</td>\n",
              "      <td>0.947155</td>\n",
              "      <td>0.876505</td>\n",
              "      <td>0.618200</td>\n",
              "      <td>08:45</td>\n",
              "    </tr>\n",
              "    <tr>\n",
              "      <td>1</td>\n",
              "      <td>0.913976</td>\n",
              "      <td>0.826500</td>\n",
              "      <td>0.641267</td>\n",
              "      <td>08:19</td>\n",
              "    </tr>\n",
              "    <tr>\n",
              "      <td>2</td>\n",
              "      <td>0.805547</td>\n",
              "      <td>0.805290</td>\n",
              "      <td>0.646600</td>\n",
              "      <td>08:02</td>\n",
              "    </tr>\n",
              "    <tr>\n",
              "      <td>3</td>\n",
              "      <td>0.691287</td>\n",
              "      <td>0.821798</td>\n",
              "      <td>0.649400</td>\n",
              "      <td>09:51</td>\n",
              "    </tr>\n",
              "  </tbody>\n",
              "</table>"
            ],
            "text/plain": [
              "<IPython.core.display.HTML object>"
            ]
          },
          "metadata": {
            "tags": []
          }
        }
      ]
    },
    {
      "cell_type": "markdown",
      "metadata": {
        "id": "rWMnahCkFyS2",
        "colab_type": "text"
      },
      "source": [
        "Train and test (validation) plots against iterations of the Classifier"
      ]
    },
    {
      "cell_type": "code",
      "metadata": {
        "id": "RwgH-O6ugsOq",
        "colab_type": "code",
        "colab": {
          "base_uri": "https://localhost:8080/",
          "height": 279
        },
        "outputId": "3268aa7b-ba3b-463c-a8a4-1cde5b955c5e"
      },
      "source": [
        "learn.recorder.plot_losses()"
      ],
      "execution_count": null,
      "outputs": [
        {
          "output_type": "display_data",
          "data": {
            "image/png": "[encoded data removed]",
            "text/plain": [
              "<Figure size 432x288 with 1 Axes>"
            ]
          },
          "metadata": {
            "tags": []
          }
        }
      ]
    },
    {
      "cell_type": "code",
      "metadata": {
        "id": "c49-ey5VsGj9",
        "colab_type": "code",
        "colab": {}
      },
      "source": [
        "learn.save('learn_model')"
      ],
      "execution_count": null,
      "outputs": []
    },
    {
      "cell_type": "markdown",
      "metadata": {
        "id": "tSGoyhdctPV8",
        "colab_type": "text"
      },
      "source": [
        "## Evaluating model on the Kaggle Test set\n",
        "\n",
        "Here we choose the model of choice from above section which seems to be the Neural network and our text pre processing to evaluate the model performance interms of accuracy on the test data in the kaggle competition site"
      ]
    },
    {
      "cell_type": "code",
      "metadata": {
        "id": "aDeMgepChlWd",
        "colab_type": "code",
        "colab": {
          "base_uri": "https://localhost:8080/",
          "height": 204
        },
        "outputId": "dfe99ef7-e510-419b-b413-2ff2d6199256"
      },
      "source": [
        "test_data = pd.read_csv(\"/content/drive/My Drive/ADA_Assignment 2/test_data.csv\")\n",
        "test_data.head()"
      ],
      "execution_count": null,
      "outputs": [
        {
          "output_type": "execute_result",
          "data": {
            "text/html": [
              "<div>\n",
              "<style scoped>\n",
              "    .dataframe tbody tr th:only-of-type {\n",
              "        vertical-align: middle;\n",
              "    }\n",
              "\n",
              "    .dataframe tbody tr th {\n",
              "        vertical-align: top;\n",
              "    }\n",
              "\n",
              "    .dataframe thead th {\n",
              "        text-align: right;\n",
              "    }\n",
              "</style>\n",
              "<table border=\"1\" class=\"dataframe\">\n",
              "  <thead>\n",
              "    <tr style=\"text-align: right;\">\n",
              "      <th></th>\n",
              "      <th>test_id</th>\n",
              "      <th>text</th>\n",
              "    </tr>\n",
              "  </thead>\n",
              "  <tbody>\n",
              "    <tr>\n",
              "      <th>0</th>\n",
              "      <td>test_1</td>\n",
              "      <td>trying to have a nice quiet dinner.  the annou...</td>\n",
              "    </tr>\n",
              "    <tr>\n",
              "      <th>1</th>\n",
              "      <td>test_2</td>\n",
              "      <td>Been getting food to go from here for over 3yr...</td>\n",
              "    </tr>\n",
              "    <tr>\n",
              "      <th>2</th>\n",
              "      <td>test_3</td>\n",
              "      <td>Ugh. I've had to eat here a couple of times be...</td>\n",
              "    </tr>\n",
              "    <tr>\n",
              "      <th>3</th>\n",
              "      <td>test_4</td>\n",
              "      <td>The people here are so nice! I ordered on eat ...</td>\n",
              "    </tr>\n",
              "    <tr>\n",
              "      <th>4</th>\n",
              "      <td>test_5</td>\n",
              "      <td>Heard alot of good things about this place and...</td>\n",
              "    </tr>\n",
              "  </tbody>\n",
              "</table>\n",
              "</div>"
            ],
            "text/plain": [
              "  test_id                                               text\n",
              "0  test_1  trying to have a nice quiet dinner.  the annou...\n",
              "1  test_2  Been getting food to go from here for over 3yr...\n",
              "2  test_3  Ugh. I've had to eat here a couple of times be...\n",
              "3  test_4  The people here are so nice! I ordered on eat ...\n",
              "4  test_5  Heard alot of good things about this place and..."
            ]
          },
          "metadata": {
            "tags": []
          },
          "execution_count": 31
        }
      ]
    },
    {
      "cell_type": "code",
      "metadata": {
        "id": "mJBCTcaDrXIz",
        "colab_type": "code",
        "colab": {}
      },
      "source": [
        "data_clas.add_test(items=test_data[\"text\"],label=None)"
      ],
      "execution_count": null,
      "outputs": []
    },
    {
      "cell_type": "markdown",
      "metadata": {
        "id": "KVKb91TjIUU7",
        "colab_type": "text"
      },
      "source": [
        "Generating predictions on the test data"
      ]
    },
    {
      "cell_type": "code",
      "metadata": {
        "id": "dJJYxzB0_jC1",
        "colab_type": "code",
        "colab": {}
      },
      "source": [
        "preds,target = learn.get_preds(ds_type = DatasetType.Test, ordered=True)"
      ],
      "execution_count": null,
      "outputs": []
    },
    {
      "cell_type": "code",
      "metadata": {
        "id": "bqt-OGWlptBP",
        "colab_type": "code",
        "colab": {}
      },
      "source": [
        "labels=np.argmax(preds,axis=1)"
      ],
      "execution_count": null,
      "outputs": []
    },
    {
      "cell_type": "markdown",
      "metadata": {
        "id": "V_v0AGV6IYTg",
        "colab_type": "text"
      },
      "source": [
        "Saving it to a dataframe"
      ]
    },
    {
      "cell_type": "code",
      "metadata": {
        "id": "oTbjobU00NXc",
        "colab_type": "code",
        "colab": {
          "base_uri": "https://localhost:8080/",
          "height": 204
        },
        "outputId": "45a4875c-3293-4475-9824-fa52796b521d"
      },
      "source": [
        "test_pred=pd.DataFrame()\n",
        "test_pred['test_id']=test_data['test_id']\n",
        "#se = pd.Series(log_reg2)\n",
        "test_pred['label'] =labels\n",
        "test_pred[\"label\"]+=1\n",
        "test_pred.head()"
      ],
      "execution_count": null,
      "outputs": [
        {
          "output_type": "execute_result",
          "data": {
            "text/html": [
              "<div>\n",
              "<style scoped>\n",
              "    .dataframe tbody tr th:only-of-type {\n",
              "        vertical-align: middle;\n",
              "    }\n",
              "\n",
              "    .dataframe tbody tr th {\n",
              "        vertical-align: top;\n",
              "    }\n",
              "\n",
              "    .dataframe thead th {\n",
              "        text-align: right;\n",
              "    }\n",
              "</style>\n",
              "<table border=\"1\" class=\"dataframe\">\n",
              "  <thead>\n",
              "    <tr style=\"text-align: right;\">\n",
              "      <th></th>\n",
              "      <th>test_id</th>\n",
              "      <th>label</th>\n",
              "    </tr>\n",
              "  </thead>\n",
              "  <tbody>\n",
              "    <tr>\n",
              "      <th>0</th>\n",
              "      <td>test_1</td>\n",
              "      <td>3</td>\n",
              "    </tr>\n",
              "    <tr>\n",
              "      <th>1</th>\n",
              "      <td>test_2</td>\n",
              "      <td>4</td>\n",
              "    </tr>\n",
              "    <tr>\n",
              "      <th>2</th>\n",
              "      <td>test_3</td>\n",
              "      <td>1</td>\n",
              "    </tr>\n",
              "    <tr>\n",
              "      <th>3</th>\n",
              "      <td>test_4</td>\n",
              "      <td>5</td>\n",
              "    </tr>\n",
              "    <tr>\n",
              "      <th>4</th>\n",
              "      <td>test_5</td>\n",
              "      <td>4</td>\n",
              "    </tr>\n",
              "  </tbody>\n",
              "</table>\n",
              "</div>"
            ],
            "text/plain": [
              "  test_id  label\n",
              "0  test_1      3\n",
              "1  test_2      4\n",
              "2  test_3      1\n",
              "3  test_4      5\n",
              "4  test_5      4"
            ]
          },
          "metadata": {
            "tags": []
          },
          "execution_count": 86
        }
      ]
    },
    {
      "cell_type": "code",
      "metadata": {
        "id": "SoqX7dId0d2l",
        "colab_type": "code",
        "colab": {
          "base_uri": "https://localhost:8080/",
          "height": 34
        },
        "outputId": "73a449ea-0061-4db9-802d-298ab8c514e7"
      },
      "source": [
        "drive.mount('/content/drive')\n",
        "export_csv = test_pred.to_csv (r'/content/drive/My Drive/ADA_Assignment 2/predict_label.csv', index = None, header=True)"
      ],
      "execution_count": null,
      "outputs": [
        {
          "output_type": "stream",
          "text": [
            "Drive already mounted at /content/drive; to attempt to forcibly remount, call drive.mount(\"/content/drive\", force_remount=True).\n"
          ],
          "name": "stdout"
        }
      ]
    },
    {
      "cell_type": "markdown",
      "metadata": {
        "colab_type": "text",
        "id": "rrnixwgK2S2m"
      },
      "source": [
        "## Semi-Supervised Learning"
      ]
    },
    {
      "cell_type": "markdown",
      "metadata": {
        "id": "juLgbrmj3Hot",
        "colab_type": "text"
      },
      "source": [
        "All the models that we have built were supervised models (only with labeled data). In this part we are going to include unlabaled data for training the models with further data points. In each iteration we predict 10000 data points from unlabeled data and add those points to the training data, we then use the new training data to train the model and use it to predict another 10000 data points. we will test each iteration and monitor to see if the performance of the model is actualy improving or not.\n"
      ]
    },
    {
      "cell_type": "markdown",
      "metadata": {
        "id": "3_0b7SedEN1E",
        "colab_type": "text"
      },
      "source": [
        "### Simple Neural Network - Keras\n",
        "\n",
        "We are going to use Keras neural network for training the unlabeled data."
      ]
    },
    {
      "cell_type": "code",
      "metadata": {
        "id": "ck_hAlksCDSZ",
        "colab_type": "code",
        "colab": {}
      },
      "source": [
        "def accuracy(list1,list2):\n",
        "    match=0\n",
        "    for i in range(len(list1)):\n",
        "        if list1[i]==list2[i]:\n",
        "            match+=1\n",
        "    return (match/len(list1))"
      ],
      "execution_count": null,
      "outputs": []
    },
    {
      "cell_type": "code",
      "metadata": {
        "colab_type": "code",
        "id": "CiMn8OpR2S2q",
        "colab": {}
      },
      "source": [
        "X_train, X_test, y_train, y_test = train_test_split(df_labeled, text.iloc[0:50000][\"label\"], test_size=0.2, random_state = 200)"
      ],
      "execution_count": null,
      "outputs": []
    },
    {
      "cell_type": "code",
      "metadata": {
        "colab_type": "code",
        "id": "iTnucaDA2S20",
        "colab": {}
      },
      "source": [
        "x_tmp = X_train\n",
        "\n",
        "y_tmp = y_train\n",
        "\n",
        "df_unlabeled_matrix = df_unlabeled"
      ],
      "execution_count": null,
      "outputs": []
    },
    {
      "cell_type": "code",
      "metadata": {
        "colab_type": "code",
        "id": "e-vAWkoV2S25",
        "colab": {}
      },
      "source": [
        "import os\n",
        "os.environ['TF_CPP_MIN_LOG_LEVEL'] = '3' \n",
        "import tensorflow as tf"
      ],
      "execution_count": null,
      "outputs": []
    },
    {
      "cell_type": "code",
      "metadata": {
        "colab_type": "code",
        "id": "iO_dBa0W2S2-",
        "colab": {
          "base_uri": "https://localhost:8080/",
          "height": 706
        },
        "outputId": "cc2de970-fdb4-4a1e-ca4a-1b08f2d2af27"
      },
      "source": [
        "np.random.seed(5)  # make example repeatable \n",
        "                    \n",
        "count = 0   \n",
        "\n",
        "while(df_unlabeled_matrix.get_shape()[0]>0):\n",
        "  \n",
        "  print(df_unlabeled_matrix.get_shape())\n",
        "  \n",
        "  if count == 10:\n",
        "        break    # break here\n",
        "      \n",
        "  # random sample    \n",
        "  random_idxs= np.random.choice(df_unlabeled_matrix.get_shape()[0], size=10000, replace=False)\n",
        "  \n",
        "  # Using the indexes to slice the matrixes\n",
        "  tmp_unlabeled = df_unlabeled_matrix[random_idxs, :]\n",
        "  \n",
        "  ########### MODEL TRAIN ###############################\n",
        "  print(\"START TRAINING\")\n",
        "  \n",
        "  model = Sequential()\n",
        "  model.add(Dense(31, activation='relu', input_dim=input_dim))\n",
        "  model.add(Dense(6, activation='softmax'))\n",
        "  sgd = optimizers.SGD(lr=0.01, decay=1e-6, momentum=0.9, nesterov=True)\n",
        "  model.compile(optimizer=sgd,loss='sparse_categorical_crossentropy', metrics=['accuracy'])\n",
        " \n",
        "  model.fit(x_tmp, y_tmp, epochs=30,validation_data=(X_test, y_test), verbose=False, batch_size=128, shuffle=\"batch\" )\n",
        "\n",
        "  print(\"END TRAINING\")\n",
        "  \n",
        "  # Print accuracy\n",
        "  loss, accuracyTest = model.evaluate(X_test, y_test, verbose=False)\n",
        "  print(\"Testing Accuracy:  {:.4f}\".format(accuracyTest))\n",
        "  \n",
        "  ########### END MODEL TRAIN ###########################\n",
        "    \n",
        "  ## predict\n",
        "  NN_predict=model.predict_classes(tmp_unlabeled)\n",
        " \n",
        "  # add the predicted documets in the train data\n",
        "  x_tmp=vstack((x_tmp, tmp_unlabeled))\n",
        "  \n",
        "  # add pseudo Label\n",
        "  y_tmp = np.concatenate((np.array(y_tmp), np.array(NN_predict)), axis=None)\n",
        "   \n",
        "  \n",
        "  temp=[x for x in range(df_unlabeled_matrix.get_shape()[0])]\n",
        "  \n",
        "  y=list(set(temp).symmetric_difference(random_idxs))\n",
        "  \n",
        "  #remove trained data points from unlabeled \n",
        "  df_unlabeled_matrix=df_unlabeled_matrix[y,:]\n",
        " \n",
        "  count = count+1"
      ],
      "execution_count": null,
      "outputs": [
        {
          "output_type": "stream",
          "text": [
            "(600000, 10000)\n",
            "START TRAINING\n",
            "END TRAINING\n",
            "Testing Accuracy:  0.6131\n",
            "(590000, 10000)\n",
            "START TRAINING\n",
            "END TRAINING\n",
            "Testing Accuracy:  0.6097\n",
            "(580000, 10000)\n",
            "START TRAINING\n",
            "END TRAINING\n",
            "Testing Accuracy:  0.6090\n",
            "(570000, 10000)\n",
            "START TRAINING\n",
            "END TRAINING\n",
            "Testing Accuracy:  0.6069\n",
            "(560000, 10000)\n",
            "START TRAINING\n",
            "END TRAINING\n",
            "Testing Accuracy:  0.6063\n",
            "(550000, 10000)\n",
            "START TRAINING\n",
            "END TRAINING\n",
            "Testing Accuracy:  0.6041\n",
            "(540000, 10000)\n",
            "START TRAINING\n",
            "END TRAINING\n",
            "Testing Accuracy:  0.6060\n",
            "(530000, 10000)\n",
            "START TRAINING\n",
            "END TRAINING\n",
            "Testing Accuracy:  0.6039\n",
            "(520000, 10000)\n",
            "START TRAINING\n",
            "END TRAINING\n",
            "Testing Accuracy:  0.6022\n",
            "(510000, 10000)\n",
            "START TRAINING\n",
            "END TRAINING\n",
            "Testing Accuracy:  0.6035\n",
            "(500000, 10000)\n"
          ],
          "name": "stdout"
        }
      ]
    },
    {
      "cell_type": "markdown",
      "metadata": {
        "id": "O26KICLJ6bFx",
        "colab_type": "text"
      },
      "source": [
        "After 10 iterations or training 100 000 data points from the unlabeled data, we can see that the accuracy is dropping. \n",
        "From 0.6131 in the 1st iteration, the accuracy drops to 0.6035 in the 10th iteration. In all 10 iterations the accuracy drop for 0.0096."
      ]
    },
    {
      "cell_type": "markdown",
      "metadata": {
        "id": "DVDnuFb2EW6t",
        "colab_type": "text"
      },
      "source": [
        "### Logistic Regression \n",
        "In this part, we are going to repeat the same process but using Logistic Regression."
      ]
    },
    {
      "cell_type": "code",
      "metadata": {
        "id": "nZkeLl5ZB1XO",
        "colab_type": "code",
        "colab": {}
      },
      "source": [
        "x_tmp = X_train\n",
        "\n",
        "y_tmp = y_train\n",
        "\n",
        "df_unlabeled_matrix = df_unlabeled"
      ],
      "execution_count": null,
      "outputs": []
    },
    {
      "cell_type": "code",
      "metadata": {
        "id": "BfZYvqaeBqdL",
        "colab_type": "code",
        "colab": {
          "base_uri": "https://localhost:8080/",
          "height": 706
        },
        "outputId": "d79014ec-0eab-461b-e4bf-773f33022b79"
      },
      "source": [
        "np.random.seed(5)  # make example repeatable \n",
        "                    \n",
        "count = 0   \n",
        "\n",
        "while(df_unlabeled_matrix.get_shape()[0]>0):\n",
        "  \n",
        "  print(df_unlabeled_matrix.get_shape())\n",
        "  \n",
        "  if count == 10:\n",
        "        break    # break here\n",
        "      \n",
        "  # random sample    \n",
        "  random_idxs= np.random.choice(df_unlabeled_matrix.get_shape()[0], size=10000, replace=False)\n",
        "  \n",
        "  # Using the indexes to slice the matrixes\n",
        "  tmp_unlabeled = df_unlabeled_matrix[random_idxs, :]\n",
        "  \n",
        "  ########### MODEL TRAIN ###############################\n",
        "  print(\"START TRAINING\")\n",
        "  \n",
        "  lr2 = LogisticRegression(random_state=0, solver='newton-cg', C=0.6, class_weight=\"balanced\", fit_intercept=False, max_iter=250, penalty=\"l2\",tol=0.0001,multi_class='multinomial').fit(x_tmp, y_tmp)\n",
        "  lr_predict2=lr2.predict(tmp_unlabeled)\n",
        "  print(accuracy(lr2.predict(X_test),y_test.values))\n",
        "\n",
        "  print(\"END TRAINING\")\n",
        "  \n",
        "  ########### END MODEL TRAIN ###########################\n",
        "   \n",
        "  # add the predicted documets in the train data\n",
        "  x_tmp=vstack((x_tmp, tmp_unlabeled))\n",
        "  \n",
        "  # add pseudo Label\n",
        "  y_tmp = np.concatenate((np.array(y_tmp), np.array(lr_predict2)), axis=None)\n",
        "   \n",
        "  \n",
        "  temp=[x for x in range(df_unlabeled_matrix.get_shape()[0])]\n",
        "  \n",
        "  y=list(set(temp).symmetric_difference(random_idxs))\n",
        "  \n",
        "  #remove trained data points from unlabeled \n",
        "  df_unlabeled_matrix=df_unlabeled_matrix[y,:]\n",
        " \n",
        "  count = count+1"
      ],
      "execution_count": null,
      "outputs": [
        {
          "output_type": "stream",
          "text": [
            "(600000, 10000)\n",
            "START TRAINING\n",
            "0.6036\n",
            "END TRAINING\n",
            "(590000, 10000)\n",
            "START TRAINING\n",
            "0.6003\n",
            "END TRAINING\n",
            "(580000, 10000)\n",
            "START TRAINING\n",
            "0.5967\n",
            "END TRAINING\n",
            "(570000, 10000)\n",
            "START TRAINING\n",
            "0.5959\n",
            "END TRAINING\n",
            "(560000, 10000)\n",
            "START TRAINING\n",
            "0.5955\n",
            "END TRAINING\n",
            "(550000, 10000)\n",
            "START TRAINING\n",
            "0.5939\n",
            "END TRAINING\n",
            "(540000, 10000)\n",
            "START TRAINING\n",
            "0.5944\n",
            "END TRAINING\n",
            "(530000, 10000)\n",
            "START TRAINING\n",
            "0.5938\n",
            "END TRAINING\n",
            "(520000, 10000)\n",
            "START TRAINING\n",
            "0.5925\n",
            "END TRAINING\n",
            "(510000, 10000)\n",
            "START TRAINING\n",
            "0.5926\n",
            "END TRAINING\n",
            "(500000, 10000)\n"
          ],
          "name": "stdout"
        }
      ]
    },
    {
      "cell_type": "markdown",
      "metadata": {
        "id": "DYfIng6cE1ug",
        "colab_type": "text"
      },
      "source": [
        "We can see a similar outcome as using simple Neural Network. The accuracy is decreasing in first iteration the accuracy is 0.6030 and in the 10th iteration, the accuracy is 0.5926, in 10 iterations the accuracy drop for 0.0104."
      ]
    },
    {
      "cell_type": "markdown",
      "metadata": {
        "id": "mfgUMnMtmUTC",
        "colab_type": "text"
      },
      "source": [
        "# References\n",
        "\n",
        "Aditya, C.(2019). Using FastAI’s ULMFiT to make a state-of-the-art multi-label text classifier. https://medium.com/technonerds/using-fastais-ulmfit-to-make-a-state-of-the-art-multi-label-text-classifier-bf54e2943e83\n",
        "\n",
        "Jake, V. P. (2016) In Depth: Principal Component Analysis. https://jakevdp.github.io/PythonDataScienceHandbook/05.09-principal-component-analysis.html\n",
        "\n",
        "Javaid, N.(2019).Machine Learning — Text Classification, Language Modelling using fast.ai.https://towardsdatascience.com/machine-learning-text-classification-language-modelling-using-fast-ai-b1b334f2872d\n",
        "\n",
        "Kavita, G. (2018). Tutorial: Extracting Keywords with TF-IDF and Python’s Scikit-Learn.https://kavita-ganesan.com/extracting-keywords-from-text-tfidf/#.XbBFm-gzZPY\n",
        "\n",
        "Prajwal, S.(2019). Sentiment analysis for text with Deep Learning. https://towardsdatascience.com/sentiment-analysis-for-text-with-deep-learning-2f0a0c6472b5\n",
        "\n",
        "Prateek, J. (2018). Tutorial on Text Classification (NLP) using ULMFiT and fastai Library in Python. https://www.analyticsvidhya.com/blog/2018/11/tutorial-text-classification-ulmfit-fastai-library/\n",
        "\n",
        "Sebastian, R. & Julian, E.(2019). Efficient multi-lingual language model fine-tuning. http://nlp.fast.ai/\n",
        "\n",
        "Usman, M. (2019). Python for NLP: Movie Sentiment Analysis using Deep Learning in Keras. https://stackabuse.com/python-for-nlp-movie-sentiment-analysis-using-deep-learning-in-keras/\n",
        "\n"
      ]
    },
    {
      "cell_type": "code",
      "metadata": {
        "id": "J6ou5mxiCCUC",
        "colab_type": "code",
        "colab": {}
      },
      "source": [
        ""
      ],
      "execution_count": null,
      "outputs": []
    }
  ]
}